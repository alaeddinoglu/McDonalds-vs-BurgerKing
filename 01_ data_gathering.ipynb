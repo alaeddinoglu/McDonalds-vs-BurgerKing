{
 "cells": [
  {
   "cell_type": "code",
   "execution_count": 1,
   "metadata": {},
   "outputs": [],
   "source": [
    "# Importing the libraries\n",
    "import numpy as np\n",
    "import requests\n",
    "import pandas as pd"
   ]
  },
  {
   "cell_type": "code",
   "execution_count": 2,
   "metadata": {},
   "outputs": [],
   "source": [
    "# creating the URL\n",
    "url = \"https://api.pushshift.io/reddit/search/comment/\""
   ]
  },
  {
   "cell_type": "code",
   "execution_count": 3,
   "metadata": {},
   "outputs": [],
   "source": [
    "# Creating parameters dictionary for request\n",
    "params = {\n",
    "    \"subreddit\" : [\"McDonalds\", \"BurgerKing\"],\n",
    "    \"size\" : 500\n",
    "}"
   ]
  },
  {
   "cell_type": "markdown",
   "metadata": {},
   "source": [
    "The default number of return is 25. The maximum number of comments we can retrieve is 500. \n",
    "That is why we are setting it to 500."
   ]
  },
  {
   "cell_type": "code",
   "execution_count": 4,
   "metadata": {},
   "outputs": [],
   "source": [
    "# creating a variable for request\n",
    "res = requests.get(url, params)"
   ]
  },
  {
   "cell_type": "code",
   "execution_count": 5,
   "metadata": {},
   "outputs": [
    {
     "data": {
      "text/plain": [
       "200"
      ]
     },
     "execution_count": 5,
     "metadata": {},
     "output_type": "execute_result"
    }
   ],
   "source": [
    "# checking the status code\n",
    "res.status_code"
   ]
  },
  {
   "cell_type": "code",
   "execution_count": 6,
   "metadata": {},
   "outputs": [],
   "source": [
    "# creating a Jason object\n",
    "data = res.json()"
   ]
  },
  {
   "cell_type": "code",
   "execution_count": 7,
   "metadata": {},
   "outputs": [],
   "source": [
    "# creating posts list\n",
    "posts = data[\"data\"]"
   ]
  },
  {
   "cell_type": "code",
   "execution_count": 8,
   "metadata": {},
   "outputs": [
    {
     "data": {
      "text/plain": [
       "1590702019"
      ]
     },
     "execution_count": 8,
     "metadata": {},
     "output_type": "execute_result"
    }
   ],
   "source": [
    "# looking at the data of the first post in the list\n",
    "posts[0][\"created_utc\"]"
   ]
  },
  {
   "cell_type": "code",
   "execution_count": 9,
   "metadata": {},
   "outputs": [
    {
     "data": {
      "text/plain": [
       "500"
      ]
     },
     "execution_count": 9,
     "metadata": {},
     "output_type": "execute_result"
    }
   ],
   "source": [
    "# size of the list\n",
    "len(posts)"
   ]
  },
  {
   "cell_type": "code",
   "execution_count": 10,
   "metadata": {},
   "outputs": [],
   "source": [
    "# creating a dataframe\n",
    "df = pd.DataFrame(posts)"
   ]
  },
  {
   "cell_type": "code",
   "execution_count": 11,
   "metadata": {},
   "outputs": [
    {
     "data": {
      "text/plain": [
       "Index(['all_awardings', 'associated_award', 'author',\n",
       "       'author_flair_background_color', 'author_flair_css_class',\n",
       "       'author_flair_richtext', 'author_flair_template_id',\n",
       "       'author_flair_text', 'author_flair_text_color', 'author_flair_type',\n",
       "       'author_fullname', 'author_patreon_flair', 'author_premium', 'awarders',\n",
       "       'body', 'collapsed_because_crowd_control', 'created_utc', 'gildings',\n",
       "       'id', 'is_submitter', 'link_id', 'locked', 'no_follow', 'parent_id',\n",
       "       'permalink', 'retrieved_on', 'score', 'send_replies', 'stickied',\n",
       "       'subreddit', 'subreddit_id', 'total_awards_received', 'treatment_tags',\n",
       "       'edited', 'author_cakeday', 'distinguished'],\n",
       "      dtype='object')"
      ]
     },
     "execution_count": 11,
     "metadata": {},
     "output_type": "execute_result"
    }
   ],
   "source": [
    "df.columns"
   ]
  },
  {
   "cell_type": "code",
   "execution_count": 12,
   "metadata": {},
   "outputs": [],
   "source": [
    "# getting 3 columns in the DataFrame\n",
    "df = df[[\"subreddit\", \"body\"]]"
   ]
  },
  {
   "cell_type": "code",
   "execution_count": 13,
   "metadata": {},
   "outputs": [],
   "source": [
    "# creating second parameter dict for second search\n",
    "params_2 = {\n",
    "    \"subreddit\" : [\"McDonalds\", \"BurgerKing\"],\n",
    "    \"size\" : 500,\n",
    "    \"before\":  posts[0][\"created_utc\"] # using before argument to retrieve older 500 posts\n",
    "}"
   ]
  },
  {
   "cell_type": "code",
   "execution_count": 14,
   "metadata": {},
   "outputs": [],
   "source": [
    "# creating a variable for request\n",
    "res_2 = requests.get(url, params_2)"
   ]
  },
  {
   "cell_type": "code",
   "execution_count": 15,
   "metadata": {},
   "outputs": [
    {
     "data": {
      "text/plain": [
       "200"
      ]
     },
     "execution_count": 15,
     "metadata": {},
     "output_type": "execute_result"
    }
   ],
   "source": [
    "# checking the status code\n",
    "res_2.status_code"
   ]
  },
  {
   "cell_type": "code",
   "execution_count": 16,
   "metadata": {},
   "outputs": [],
   "source": [
    "# creating a Jason object\n",
    "data_2 = res_2.json()\n",
    "# creating posts list\n",
    "posts_2 = data_2[\"data\"]"
   ]
  },
  {
   "cell_type": "code",
   "execution_count": 17,
   "metadata": {},
   "outputs": [
    {
     "data": {
      "text/plain": [
       "1590698035"
      ]
     },
     "execution_count": 17,
     "metadata": {},
     "output_type": "execute_result"
    }
   ],
   "source": [
    "# looking at the data of the first post in the list\n",
    "posts_2[0][\"created_utc\"]"
   ]
  },
  {
   "cell_type": "code",
   "execution_count": 18,
   "metadata": {},
   "outputs": [],
   "source": [
    "# creating a dataframe\n",
    "df_2 = pd.DataFrame(posts_2)\n",
    "\n",
    "# getting 3 columns in the DataFrame\n",
    "df_2 = df_2[[\"subreddit\", \"body\"]]"
   ]
  },
  {
   "cell_type": "code",
   "execution_count": 19,
   "metadata": {},
   "outputs": [],
   "source": [
    "# creating third parameter dict for third search\n",
    "\n",
    "params_3 = {\n",
    "    \"subreddit\" : [\"McDonalds\", \"BurgerKing\"],\n",
    "    \"size\" : 500,\n",
    "    \"before\": posts_2[0][\"created_utc\"]\n",
    "}"
   ]
  },
  {
   "cell_type": "code",
   "execution_count": 20,
   "metadata": {},
   "outputs": [],
   "source": [
    "# creating a variable for request\n",
    "res_3 = requests.get(url, params_3)"
   ]
  },
  {
   "cell_type": "code",
   "execution_count": 21,
   "metadata": {},
   "outputs": [
    {
     "data": {
      "text/plain": [
       "200"
      ]
     },
     "execution_count": 21,
     "metadata": {},
     "output_type": "execute_result"
    }
   ],
   "source": [
    "# checking the status code\n",
    "res_3.status_code"
   ]
  },
  {
   "cell_type": "code",
   "execution_count": 22,
   "metadata": {},
   "outputs": [],
   "source": [
    "# creating a Jason object\n",
    "data_3 = res_3.json()\n",
    "# creating posts list\n",
    "posts_3 = data_3[\"data\"]"
   ]
  },
  {
   "cell_type": "code",
   "execution_count": 23,
   "metadata": {},
   "outputs": [],
   "source": [
    "# creating a dataframe\n",
    "df_3 = pd.DataFrame(posts_3)\n",
    "\n",
    "# getting 3 columns in the DataFrame\n",
    "df_3 = df_3[[\"subreddit\", \"body\"]]"
   ]
  },
  {
   "cell_type": "code",
   "execution_count": 24,
   "metadata": {},
   "outputs": [
    {
     "data": {
      "text/plain": [
       "1590697608"
      ]
     },
     "execution_count": 24,
     "metadata": {},
     "output_type": "execute_result"
    }
   ],
   "source": [
    "# looking at the data of the first post in the list\n",
    "posts_3[0][\"created_utc\"]"
   ]
  },
  {
   "cell_type": "code",
   "execution_count": 25,
   "metadata": {},
   "outputs": [],
   "source": [
    "# creating forth parameter dict for forth search\n",
    "params_4 = {\n",
    "    \"subreddit\" : [\"McDonalds\", \"BurgerKing\"],\n",
    "    \"size\" : 500,\n",
    "    \"before\": posts_3[0][\"created_utc\"]\n",
    "}"
   ]
  },
  {
   "cell_type": "code",
   "execution_count": 26,
   "metadata": {},
   "outputs": [],
   "source": [
    "# creating a variable for request\n",
    "res_4 = requests.get(url, params_4)"
   ]
  },
  {
   "cell_type": "code",
   "execution_count": 27,
   "metadata": {},
   "outputs": [
    {
     "data": {
      "text/plain": [
       "200"
      ]
     },
     "execution_count": 27,
     "metadata": {},
     "output_type": "execute_result"
    }
   ],
   "source": [
    "# checking the status code\n",
    "res_4.status_code"
   ]
  },
  {
   "cell_type": "code",
   "execution_count": 28,
   "metadata": {},
   "outputs": [],
   "source": [
    "# creating a Jason object\n",
    "data_4 = res_4.json()\n",
    "# creating posts list\n",
    "posts_4 = data_4[\"data\"]"
   ]
  },
  {
   "cell_type": "code",
   "execution_count": 29,
   "metadata": {},
   "outputs": [],
   "source": [
    "# creating a dataframe\n",
    "df_4 = pd.DataFrame(posts_4)\n",
    "\n",
    "# getting 4 columns in the DataFrame\n",
    "df_4 = df_4[[\"subreddit\", \"body\"]]"
   ]
  },
  {
   "cell_type": "code",
   "execution_count": 30,
   "metadata": {},
   "outputs": [
    {
     "data": {
      "text/plain": [
       "1590692902"
      ]
     },
     "execution_count": 30,
     "metadata": {},
     "output_type": "execute_result"
    }
   ],
   "source": [
    "# looking at the data of the first post in the list\n",
    "posts_4[0][\"created_utc\"]"
   ]
  },
  {
   "cell_type": "code",
   "execution_count": 31,
   "metadata": {},
   "outputs": [],
   "source": [
    "# creating forth parameter dict for forth search\n",
    "params_5 = {\n",
    "    \"subreddit\" : [\"McDonalds\", \"BurgerKing\"],\n",
    "    \"size\" : 500,\n",
    "    \"before\": posts_4[0][\"created_utc\"]\n",
    "}"
   ]
  },
  {
   "cell_type": "code",
   "execution_count": 32,
   "metadata": {},
   "outputs": [
    {
     "data": {
      "text/plain": [
       "200"
      ]
     },
     "execution_count": 32,
     "metadata": {},
     "output_type": "execute_result"
    }
   ],
   "source": [
    "# creating a variable for request\n",
    "res_5 = requests.get(url, params_5)\n",
    "# checking the status code\n",
    "res_5.status_code"
   ]
  },
  {
   "cell_type": "code",
   "execution_count": 33,
   "metadata": {},
   "outputs": [],
   "source": [
    "# creating a Jason object\n",
    "data_5 = res_5.json()\n",
    "# creating posts list\n",
    "posts_5 = data_5[\"data\"]"
   ]
  },
  {
   "cell_type": "code",
   "execution_count": 34,
   "metadata": {},
   "outputs": [
    {
     "data": {
      "text/plain": [
       "1590690857"
      ]
     },
     "execution_count": 34,
     "metadata": {},
     "output_type": "execute_result"
    }
   ],
   "source": [
    "# looking at the data of the first post in the list\n",
    "posts_5[0][\"created_utc\"]"
   ]
  },
  {
   "cell_type": "code",
   "execution_count": 35,
   "metadata": {},
   "outputs": [],
   "source": [
    "# creating a dataframe\n",
    "df_5 = pd.DataFrame(posts_5)\n",
    "\n",
    "# getting 4 columns in the DataFrame\n",
    "df_5 = df_5[[\"subreddit\", \"body\"]]"
   ]
  },
  {
   "cell_type": "code",
   "execution_count": 36,
   "metadata": {},
   "outputs": [],
   "source": [
    "# creating forth parameter dict for forth search\n",
    "params_6 = {\n",
    "    \"subreddit\" : [\"McDonalds\", \"BurgerKing\"],\n",
    "    \"size\" : 500,\n",
    "    \"before\": posts_5[0][\"created_utc\"]\n",
    "}"
   ]
  },
  {
   "cell_type": "code",
   "execution_count": 37,
   "metadata": {},
   "outputs": [
    {
     "data": {
      "text/plain": [
       "200"
      ]
     },
     "execution_count": 37,
     "metadata": {},
     "output_type": "execute_result"
    }
   ],
   "source": [
    "# creating a variable for request\n",
    "res_6 = requests.get(url, params_6)\n",
    "# checking the status code\n",
    "res_6.status_code"
   ]
  },
  {
   "cell_type": "code",
   "execution_count": 38,
   "metadata": {},
   "outputs": [],
   "source": [
    "# creating a Jason object\n",
    "data_6 = res_6.json()\n",
    "# creating posts list\n",
    "posts_6 = data_6[\"data\"]"
   ]
  },
  {
   "cell_type": "code",
   "execution_count": 39,
   "metadata": {},
   "outputs": [],
   "source": [
    "# creating a dataframe\n",
    "df_6 = pd.DataFrame(posts_6)\n",
    "\n",
    "# getting 4 columns in the DataFrame\n",
    "df_6 = df_6[[\"subreddit\", \"body\"]]"
   ]
  },
  {
   "cell_type": "code",
   "execution_count": 40,
   "metadata": {},
   "outputs": [
    {
     "data": {
      "text/plain": [
       "1590690038"
      ]
     },
     "execution_count": 40,
     "metadata": {},
     "output_type": "execute_result"
    }
   ],
   "source": [
    "# looking at the data of the first post in the list\n",
    "posts_6[0][\"created_utc\"]"
   ]
  },
  {
   "cell_type": "code",
   "execution_count": 41,
   "metadata": {},
   "outputs": [],
   "source": [
    "# creating forth parameter dict for forth search\n",
    "params_7 = {\n",
    "    \"subreddit\" : [\"McDonalds\", \"BurgerKing\"],\n",
    "    \"size\" : 500,\n",
    "    \"before\": posts_6[0][\"created_utc\"]\n",
    "}"
   ]
  },
  {
   "cell_type": "code",
   "execution_count": 42,
   "metadata": {},
   "outputs": [
    {
     "data": {
      "text/plain": [
       "200"
      ]
     },
     "execution_count": 42,
     "metadata": {},
     "output_type": "execute_result"
    }
   ],
   "source": [
    "# creating a variable for request\n",
    "res_7 = requests.get(url, params_7)\n",
    "# checking the status code\n",
    "res_7.status_code"
   ]
  },
  {
   "cell_type": "code",
   "execution_count": 43,
   "metadata": {},
   "outputs": [],
   "source": [
    "# creating a Jason object\n",
    "data_7 = res_7.json()\n",
    "# creating posts list\n",
    "posts_7 = data_7[\"data\"]"
   ]
  },
  {
   "cell_type": "code",
   "execution_count": 44,
   "metadata": {},
   "outputs": [],
   "source": [
    "# creating a dataframe\n",
    "df_7 = pd.DataFrame(posts_7)\n",
    "\n",
    "# getting 4 columns in the DataFrame\n",
    "df_7 = df_7[[\"subreddit\", \"body\"]]"
   ]
  },
  {
   "cell_type": "code",
   "execution_count": 45,
   "metadata": {},
   "outputs": [
    {
     "data": {
      "text/plain": [
       "1590688273"
      ]
     },
     "execution_count": 45,
     "metadata": {},
     "output_type": "execute_result"
    }
   ],
   "source": [
    "# looking at the data of the first post in the list\n",
    "posts_7[0][\"created_utc\"]"
   ]
  },
  {
   "cell_type": "code",
   "execution_count": 46,
   "metadata": {},
   "outputs": [],
   "source": [
    "# creating forth parameter dict for forth search\n",
    "params_8 = {\n",
    "    \"subreddit\" : [\"McDonalds\", \"BurgerKing\"],\n",
    "    \"size\" : 500,\n",
    "    \"before\": posts_7[0][\"created_utc\"]\n",
    "}"
   ]
  },
  {
   "cell_type": "code",
   "execution_count": 47,
   "metadata": {},
   "outputs": [
    {
     "data": {
      "text/plain": [
       "200"
      ]
     },
     "execution_count": 47,
     "metadata": {},
     "output_type": "execute_result"
    }
   ],
   "source": [
    "# creating a variable for request\n",
    "res_8 = requests.get(url, params_8)\n",
    "# checking the status code\n",
    "res_8.status_code"
   ]
  },
  {
   "cell_type": "code",
   "execution_count": 48,
   "metadata": {},
   "outputs": [],
   "source": [
    "# creating a Jason object\n",
    "data_8 = res_8.json()\n",
    "# creating posts list\n",
    "posts_8 = data_8[\"data\"]"
   ]
  },
  {
   "cell_type": "code",
   "execution_count": 49,
   "metadata": {},
   "outputs": [],
   "source": [
    "# creating a dataframe\n",
    "df_8 = pd.DataFrame(posts_8)\n",
    "\n",
    "# getting 4 columns in the DataFrame\n",
    "df_8 = df_8[[\"subreddit\", \"body\"]]"
   ]
  },
  {
   "cell_type": "code",
   "execution_count": 50,
   "metadata": {},
   "outputs": [
    {
     "data": {
      "text/plain": [
       "1590673250"
      ]
     },
     "execution_count": 50,
     "metadata": {},
     "output_type": "execute_result"
    }
   ],
   "source": [
    "# looking at the data of the first post in the list\n",
    "posts_8[0][\"created_utc\"]"
   ]
  },
  {
   "cell_type": "code",
   "execution_count": 51,
   "metadata": {},
   "outputs": [],
   "source": [
    "# creating forth parameter dict for forth search\n",
    "params_9 = {\n",
    "    \"subreddit\" : [\"McDonalds\", \"BurgerKing\"],\n",
    "    \"size\" : 500,\n",
    "    \"before\": posts_8[0][\"created_utc\"]\n",
    "}"
   ]
  },
  {
   "cell_type": "code",
   "execution_count": 52,
   "metadata": {},
   "outputs": [
    {
     "data": {
      "text/plain": [
       "200"
      ]
     },
     "execution_count": 52,
     "metadata": {},
     "output_type": "execute_result"
    }
   ],
   "source": [
    "# creating a variable for request\n",
    "res_9 = requests.get(url, params_9)\n",
    "# checking the status code\n",
    "res_9.status_code"
   ]
  },
  {
   "cell_type": "code",
   "execution_count": 53,
   "metadata": {},
   "outputs": [],
   "source": [
    "# creating a Jason object\n",
    "data_9 = res_9.json()\n",
    "# creating posts list\n",
    "posts_9 = data_9[\"data\"]"
   ]
  },
  {
   "cell_type": "code",
   "execution_count": 54,
   "metadata": {},
   "outputs": [],
   "source": [
    "# creating a dataframe\n",
    "df_9 = pd.DataFrame(posts_9)\n",
    "\n",
    "# getting 4 columns in the DataFrame\n",
    "df_9 = df_9[[\"subreddit\", \"body\"]]"
   ]
  },
  {
   "cell_type": "code",
   "execution_count": 55,
   "metadata": {},
   "outputs": [
    {
     "data": {
      "text/plain": [
       "1590671113"
      ]
     },
     "execution_count": 55,
     "metadata": {},
     "output_type": "execute_result"
    }
   ],
   "source": [
    "# looking at the data of the first post in the list\n",
    "posts_9[0][\"created_utc\"]"
   ]
  },
  {
   "cell_type": "code",
   "execution_count": 56,
   "metadata": {},
   "outputs": [],
   "source": [
    "# creating forth parameter dict for forth search\n",
    "params_10 = {\n",
    "    \"subreddit\" : [\"McDonalds\", \"BurgerKing\"],\n",
    "    \"size\" : 500,\n",
    "    \"before\": posts_9[0][\"created_utc\"]\n",
    "}"
   ]
  },
  {
   "cell_type": "code",
   "execution_count": 57,
   "metadata": {},
   "outputs": [
    {
     "data": {
      "text/plain": [
       "200"
      ]
     },
     "execution_count": 57,
     "metadata": {},
     "output_type": "execute_result"
    }
   ],
   "source": [
    "# creating a variable for request\n",
    "res_10 = requests.get(url, params_10)\n",
    "# checking the status code\n",
    "res_10.status_code"
   ]
  },
  {
   "cell_type": "code",
   "execution_count": 58,
   "metadata": {},
   "outputs": [],
   "source": [
    "# creating a Jason object\n",
    "data_10 = res_10.json()\n",
    "# creating posts list\n",
    "posts_10 = data_10[\"data\"]"
   ]
  },
  {
   "cell_type": "code",
   "execution_count": 59,
   "metadata": {},
   "outputs": [],
   "source": [
    "# creating a dataframe\n",
    "df_10 = pd.DataFrame(posts_10)\n",
    "\n",
    "# getting 4 columns in the DataFrame\n",
    "df_10 = df_10[[\"subreddit\", \"body\"]]"
   ]
  },
  {
   "cell_type": "code",
   "execution_count": 60,
   "metadata": {},
   "outputs": [],
   "source": [
    "# creating forth parameter dict for forth search\n",
    "params_11 = {\n",
    "    \"subreddit\" : [\"McDonalds\", \"BurgerKing\"],\n",
    "    \"size\" : 500,\n",
    "    \"before\": posts_10[0][\"created_utc\"]\n",
    "}"
   ]
  },
  {
   "cell_type": "code",
   "execution_count": 61,
   "metadata": {},
   "outputs": [
    {
     "data": {
      "text/plain": [
       "200"
      ]
     },
     "execution_count": 61,
     "metadata": {},
     "output_type": "execute_result"
    }
   ],
   "source": [
    "# creating a variable for request\n",
    "res_11 = requests.get(url, params_11)\n",
    "# checking the status code\n",
    "res_11.status_code"
   ]
  },
  {
   "cell_type": "code",
   "execution_count": 62,
   "metadata": {},
   "outputs": [],
   "source": [
    "# creating a Jason object\n",
    "data_11 = res_11.json()\n",
    "# creating posts list\n",
    "posts_11 = data_11[\"data\"]"
   ]
  },
  {
   "cell_type": "code",
   "execution_count": 63,
   "metadata": {},
   "outputs": [],
   "source": [
    "# creating a dataframe\n",
    "df_11 = pd.DataFrame(posts_11)\n",
    "\n",
    "# getting 4 columns in the DataFrame\n",
    "df_11 = df_11[[\"subreddit\", \"body\"]]"
   ]
  },
  {
   "cell_type": "code",
   "execution_count": 64,
   "metadata": {},
   "outputs": [],
   "source": [
    "# creating forth parameter dict for forth search\n",
    "params_12 = {\n",
    "    \"subreddit\" : [\"McDonalds\", \"BurgerKing\"],\n",
    "    \"size\" : 500,\n",
    "    \"before\": posts_11[0][\"created_utc\"]\n",
    "}"
   ]
  },
  {
   "cell_type": "code",
   "execution_count": 65,
   "metadata": {},
   "outputs": [
    {
     "data": {
      "text/plain": [
       "200"
      ]
     },
     "execution_count": 65,
     "metadata": {},
     "output_type": "execute_result"
    }
   ],
   "source": [
    "# creating a variable for request\n",
    "res_12 = requests.get(url, params_12)\n",
    "# checking the status code\n",
    "res_12.status_code"
   ]
  },
  {
   "cell_type": "code",
   "execution_count": 66,
   "metadata": {},
   "outputs": [],
   "source": [
    "# creating a Jason object\n",
    "data_12 = res_12.json()\n",
    "# creating posts list\n",
    "posts_12 = data_12[\"data\"]"
   ]
  },
  {
   "cell_type": "code",
   "execution_count": 67,
   "metadata": {},
   "outputs": [],
   "source": [
    "# creating a dataframe\n",
    "df_12 = pd.DataFrame(posts_12)\n",
    "\n",
    "# getting 4 columns in the DataFrame\n",
    "df_12 = df_12[[\"subreddit\", \"body\"]]"
   ]
  },
  {
   "cell_type": "code",
   "execution_count": 68,
   "metadata": {},
   "outputs": [],
   "source": [
    "# Concatinating all the DataFrames\n",
    "hamburger = pd.concat([df , df_2 , df_3 , df_4 , df_5 , df_6 , df_7 , df_8 , df_9 , df_10, df_11, df_12])"
   ]
  },
  {
   "cell_type": "code",
   "execution_count": 69,
   "metadata": {},
   "outputs": [],
   "source": [
    "# Exporting as .CSV file\n",
    "hamburger.to_csv(\"hamburger.csv\",index=False)"
   ]
  }
 ],
 "metadata": {
  "kernelspec": {
   "display_name": "Python 3",
   "language": "python",
   "name": "python3"
  },
  "language_info": {
   "codemirror_mode": {
    "name": "ipython",
    "version": 3
   },
   "file_extension": ".py",
   "mimetype": "text/x-python",
   "name": "python",
   "nbconvert_exporter": "python",
   "pygments_lexer": "ipython3",
   "version": "3.7.7"
  }
 },
 "nbformat": 4,
 "nbformat_minor": 4
}
