{
 "cells": [
  {
   "cell_type": "code",
   "execution_count": 1,
   "metadata": {},
   "outputs": [],
   "source": [
    "# Importing the libraries\n",
    "import numpy as np\n",
    "import pandas as pd\n",
    "from sklearn.model_selection import train_test_split, GridSearchCV\n",
    "from sklearn.pipeline import Pipeline\n",
    "from sklearn.feature_extraction.text import CountVectorizer, TfidfVectorizer\n",
    "from sklearn.naive_bayes import MultinomialNB, GaussianNB\n",
    "import matplotlib.pyplot as plt\n",
    "\n",
    "from sklearn.metrics import confusion_matrix, classification_report, plot_confusion_matrix, roc_auc_score, roc_curve\n",
    "from sklearn.neighbors import KNeighborsClassifier\n",
    "from sklearn.linear_model import LogisticRegression"
   ]
  },
  {
   "cell_type": "code",
   "execution_count": 2,
   "metadata": {},
   "outputs": [],
   "source": [
    "# reading the CSV file\n",
    "hamburger = pd.read_csv(\"hamburger.csv\")"
   ]
  },
  {
   "cell_type": "code",
   "execution_count": 3,
   "metadata": {},
   "outputs": [
    {
     "data": {
      "text/html": [
       "<div>\n",
       "<style scoped>\n",
       "    .dataframe tbody tr th:only-of-type {\n",
       "        vertical-align: middle;\n",
       "    }\n",
       "\n",
       "    .dataframe tbody tr th {\n",
       "        vertical-align: top;\n",
       "    }\n",
       "\n",
       "    .dataframe thead th {\n",
       "        text-align: right;\n",
       "    }\n",
       "</style>\n",
       "<table border=\"1\" class=\"dataframe\">\n",
       "  <thead>\n",
       "    <tr style=\"text-align: right;\">\n",
       "      <th></th>\n",
       "      <th>subreddit</th>\n",
       "      <th>body</th>\n",
       "    </tr>\n",
       "  </thead>\n",
       "  <tbody>\n",
       "    <tr>\n",
       "      <th>0</th>\n",
       "      <td>BurgerKing</td>\n",
       "      <td>its the old tendercrisp that was used before t...</td>\n",
       "    </tr>\n",
       "    <tr>\n",
       "      <th>1</th>\n",
       "      <td>BurgerKing</td>\n",
       "      <td>Yea, they can get pretty huffy about that stuf...</td>\n",
       "    </tr>\n",
       "    <tr>\n",
       "      <th>2</th>\n",
       "      <td>BurgerKing</td>\n",
       "      <td>Yes BK delivers , please give all praise and g...</td>\n",
       "    </tr>\n",
       "    <tr>\n",
       "      <th>3</th>\n",
       "      <td>BurgerKing</td>\n",
       "      <td>I did too and it didn't work at all. I told th...</td>\n",
       "    </tr>\n",
       "    <tr>\n",
       "      <th>4</th>\n",
       "      <td>McDonalds</td>\n",
       "      <td>I have actually been to this McDonald’s.  We w...</td>\n",
       "    </tr>\n",
       "  </tbody>\n",
       "</table>\n",
       "</div>"
      ],
      "text/plain": [
       "    subreddit                                               body\n",
       "0  BurgerKing  its the old tendercrisp that was used before t...\n",
       "1  BurgerKing  Yea, they can get pretty huffy about that stuf...\n",
       "2  BurgerKing  Yes BK delivers , please give all praise and g...\n",
       "3  BurgerKing  I did too and it didn't work at all. I told th...\n",
       "4   McDonalds  I have actually been to this McDonald’s.  We w..."
      ]
     },
     "execution_count": 3,
     "metadata": {},
     "output_type": "execute_result"
    }
   ],
   "source": [
    "# Viewing the first 5 records.\n",
    "hamburger.head()"
   ]
  },
  {
   "cell_type": "code",
   "execution_count": 4,
   "metadata": {},
   "outputs": [
    {
     "name": "stdout",
     "output_type": "stream",
     "text": [
      "<class 'pandas.core.frame.DataFrame'>\n",
      "RangeIndex: 6000 entries, 0 to 5999\n",
      "Data columns (total 2 columns):\n",
      " #   Column     Non-Null Count  Dtype \n",
      "---  ------     --------------  ----- \n",
      " 0   subreddit  6000 non-null   object\n",
      " 1   body       6000 non-null   object\n",
      "dtypes: object(2)\n",
      "memory usage: 93.9+ KB\n"
     ]
    }
   ],
   "source": [
    "# viewing info method.\n",
    "hamburger.info()"
   ]
  },
  {
   "cell_type": "code",
   "execution_count": 5,
   "metadata": {},
   "outputs": [],
   "source": [
    "# removing the \"removed\" from the body column\n",
    "hamburger = hamburger.drop(hamburger.loc[hamburger[\"body\"]==\"[removed]\"].index)"
   ]
  },
  {
   "cell_type": "code",
   "execution_count": 6,
   "metadata": {},
   "outputs": [],
   "source": [
    "# removing the \"deleted\" from the body column\n",
    "hamburger = hamburger.drop(hamburger.loc[hamburger[\"body\"]==\"[deleted]\"].index)"
   ]
  },
  {
   "cell_type": "code",
   "execution_count": 7,
   "metadata": {},
   "outputs": [
    {
     "name": "stdout",
     "output_type": "stream",
     "text": [
      "<class 'pandas.core.frame.DataFrame'>\n",
      "Int64Index: 5352 entries, 0 to 5999\n",
      "Data columns (total 2 columns):\n",
      " #   Column     Non-Null Count  Dtype \n",
      "---  ------     --------------  ----- \n",
      " 0   subreddit  5352 non-null   object\n",
      " 1   body       5352 non-null   object\n",
      "dtypes: object(2)\n",
      "memory usage: 125.4+ KB\n"
     ]
    }
   ],
   "source": [
    "# viewing info method.\n",
    "hamburger.info()"
   ]
  },
  {
   "cell_type": "code",
   "execution_count": 8,
   "metadata": {},
   "outputs": [
    {
     "data": {
      "text/html": [
       "<div>\n",
       "<style scoped>\n",
       "    .dataframe tbody tr th:only-of-type {\n",
       "        vertical-align: middle;\n",
       "    }\n",
       "\n",
       "    .dataframe tbody tr th {\n",
       "        vertical-align: top;\n",
       "    }\n",
       "\n",
       "    .dataframe thead th {\n",
       "        text-align: right;\n",
       "    }\n",
       "</style>\n",
       "<table border=\"1\" class=\"dataframe\">\n",
       "  <thead>\n",
       "    <tr style=\"text-align: right;\">\n",
       "      <th></th>\n",
       "      <th>body</th>\n",
       "    </tr>\n",
       "    <tr>\n",
       "      <th>subreddit</th>\n",
       "      <th></th>\n",
       "    </tr>\n",
       "  </thead>\n",
       "  <tbody>\n",
       "    <tr>\n",
       "      <th>BurgerKing</th>\n",
       "      <td>3476</td>\n",
       "    </tr>\n",
       "    <tr>\n",
       "      <th>McDonalds</th>\n",
       "      <td>1876</td>\n",
       "    </tr>\n",
       "  </tbody>\n",
       "</table>\n",
       "</div>"
      ],
      "text/plain": [
       "            body\n",
       "subreddit       \n",
       "BurgerKing  3476\n",
       "McDonalds   1876"
      ]
     },
     "execution_count": 8,
     "metadata": {},
     "output_type": "execute_result"
    }
   ],
   "source": [
    "# Using groupby and count functions to view total entries\n",
    "hamburger.groupby([\"subreddit\"]).count()"
   ]
  },
  {
   "cell_type": "code",
   "execution_count": 9,
   "metadata": {},
   "outputs": [],
   "source": [
    "# Using 0 for BurgerKing, and 1 for McDonalds\n",
    "hamburger[\"subreddit\"]=hamburger[\"subreddit\"].map({\"BurgerKing\":0, \"McDonalds\":1})"
   ]
  },
  {
   "cell_type": "code",
   "execution_count": 10,
   "metadata": {},
   "outputs": [],
   "source": [
    "# creating X for independent variable\n",
    "X = hamburger[\"body\"]\n",
    "\n",
    "# creating y for dependent variable\n",
    "y = hamburger[\"subreddit\"]"
   ]
  },
  {
   "cell_type": "code",
   "execution_count": 11,
   "metadata": {},
   "outputs": [
    {
     "data": {
      "text/plain": [
       "0    0.649477\n",
       "1    0.350523\n",
       "Name: subreddit, dtype: float64"
      ]
     },
     "execution_count": 11,
     "metadata": {},
     "output_type": "execute_result"
    }
   ],
   "source": [
    "# Using value_counts to see if it is Balanced\n",
    "y.value_counts(normalize=True)"
   ]
  },
  {
   "cell_type": "markdown",
   "metadata": {},
   "source": [
    "Our datasets balance is 65-35%. This is not much unbalanced. "
   ]
  },
  {
   "cell_type": "code",
   "execution_count": 12,
   "metadata": {},
   "outputs": [
    {
     "data": {
      "text/plain": [
       "0.3505231689088191"
      ]
     },
     "execution_count": 12,
     "metadata": {},
     "output_type": "execute_result"
    }
   ],
   "source": [
    "# Baseline score\n",
    "y.mean()"
   ]
  },
  {
   "cell_type": "markdown",
   "metadata": {},
   "source": [
    "Our baseline score is 35%"
   ]
  },
  {
   "cell_type": "code",
   "execution_count": 13,
   "metadata": {},
   "outputs": [],
   "source": [
    "# Split the data into the training and testing sets.\n",
    "X_train, X_test, y_train, y_test = train_test_split(X,\n",
    "                                                    y,\n",
    "                                                    test_size=0.33,\n",
    "                                                    stratify=y)"
   ]
  },
  {
   "cell_type": "markdown",
   "metadata": {},
   "source": [
    "### Model 1 - Multinomial Naive Bayes\n",
    "\n",
    "In the first model we are using term frequency–inverse document frequency​ vectorizer.\n",
    "Our estimator is going to be Multinomial Naive Baise, because our target values are binary.\n",
    "\n",
    "We are going pass, manually created `English` and `none` stopwords in the vectorizer. Also, for `ngram_range` we are passing (1,1) and (1,3). \n",
    "\n",
    "For estimator Hyperparameters, we are going to use [0.01, 0.1, 1] as alpha parameters."
   ]
  },
  {
   "cell_type": "code",
   "execution_count": 14,
   "metadata": {},
   "outputs": [],
   "source": [
    "# Instantiating Pipeline with transformer and estimator\n",
    "pipe = Pipeline([\n",
    "    (\"tfdif\",TfidfVectorizer()), #Tfidf will be our transformer\n",
    "    (\"mnb\", MultinomialNB())\n",
    "    # multinomial NB model will be used as estimator\n",
    "               ])"
   ]
  },
  {
   "cell_type": "code",
   "execution_count": 15,
   "metadata": {},
   "outputs": [],
   "source": [
    "# parameters dictionary\n",
    "pipe_params = {\n",
    "    'tfdif__stop_words': [\"none\", 'english'],\n",
    "    'tfdif__ngram_range':[(1,1),(1,2), (1,3)],\n",
    "    \"mnb__alpha\":[0.01, 0.1, 1]\n",
    "}"
   ]
  },
  {
   "cell_type": "code",
   "execution_count": 16,
   "metadata": {},
   "outputs": [],
   "source": [
    "# instantiating Gridsearch with pipe, and given parameters. Shows limited parameters (verbose=1)\n",
    "gs = GridSearchCV(pipe, param_grid=pipe_params, verbose=1, cv=5 )"
   ]
  },
  {
   "cell_type": "code",
   "execution_count": 17,
   "metadata": {
    "scrolled": false
   },
   "outputs": [
    {
     "name": "stdout",
     "output_type": "stream",
     "text": [
      "Fitting 5 folds for each of 12 candidates, totalling 60 fits\n"
     ]
    },
    {
     "name": "stderr",
     "output_type": "stream",
     "text": [
      "[Parallel(n_jobs=1)]: Using backend SequentialBackend with 1 concurrent workers.\n",
      "/Users/kemalcanalaeddinoglu/opt/anaconda3/envs/dsi/lib/python3.7/site-packages/sklearn/model_selection/_validation.py:552: FitFailedWarning: Estimator fit failed. The score on this train-test partition for these parameters will be set to nan. Details: \n",
      "Traceback (most recent call last):\n",
      "  File \"/Users/kemalcanalaeddinoglu/opt/anaconda3/envs/dsi/lib/python3.7/site-packages/sklearn/model_selection/_validation.py\", line 531, in _fit_and_score\n",
      "    estimator.fit(X_train, y_train, **fit_params)\n",
      "  File \"/Users/kemalcanalaeddinoglu/opt/anaconda3/envs/dsi/lib/python3.7/site-packages/sklearn/pipeline.py\", line 330, in fit\n",
      "    Xt = self._fit(X, y, **fit_params_steps)\n",
      "  File \"/Users/kemalcanalaeddinoglu/opt/anaconda3/envs/dsi/lib/python3.7/site-packages/sklearn/pipeline.py\", line 296, in _fit\n",
      "    **fit_params_steps[name])\n",
      "  File \"/Users/kemalcanalaeddinoglu/opt/anaconda3/envs/dsi/lib/python3.7/site-packages/joblib/memory.py\", line 355, in __call__\n",
      "    return self.func(*args, **kwargs)\n",
      "  File \"/Users/kemalcanalaeddinoglu/opt/anaconda3/envs/dsi/lib/python3.7/site-packages/sklearn/pipeline.py\", line 740, in _fit_transform_one\n",
      "    res = transformer.fit_transform(X, y, **fit_params)\n",
      "  File \"/Users/kemalcanalaeddinoglu/opt/anaconda3/envs/dsi/lib/python3.7/site-packages/sklearn/feature_extraction/text.py\", line 1840, in fit_transform\n",
      "    X = super().fit_transform(raw_documents)\n",
      "  File \"/Users/kemalcanalaeddinoglu/opt/anaconda3/envs/dsi/lib/python3.7/site-packages/sklearn/feature_extraction/text.py\", line 1199, in fit_transform\n",
      "    self.fixed_vocabulary_)\n",
      "  File \"/Users/kemalcanalaeddinoglu/opt/anaconda3/envs/dsi/lib/python3.7/site-packages/sklearn/feature_extraction/text.py\", line 1102, in _count_vocab\n",
      "    analyze = self.build_analyzer()\n",
      "  File \"/Users/kemalcanalaeddinoglu/opt/anaconda3/envs/dsi/lib/python3.7/site-packages/sklearn/feature_extraction/text.py\", line 422, in build_analyzer\n",
      "    stop_words = self.get_stop_words()\n",
      "  File \"/Users/kemalcanalaeddinoglu/opt/anaconda3/envs/dsi/lib/python3.7/site-packages/sklearn/feature_extraction/text.py\", line 355, in get_stop_words\n",
      "    return _check_stop_list(self.stop_words)\n",
      "  File \"/Users/kemalcanalaeddinoglu/opt/anaconda3/envs/dsi/lib/python3.7/site-packages/sklearn/feature_extraction/text.py\", line 181, in _check_stop_list\n",
      "    raise ValueError(\"not a built-in stop list: %s\" % stop)\n",
      "ValueError: not a built-in stop list: none\n",
      "\n",
      "  FitFailedWarning)\n",
      "/Users/kemalcanalaeddinoglu/opt/anaconda3/envs/dsi/lib/python3.7/site-packages/sklearn/model_selection/_validation.py:552: FitFailedWarning: Estimator fit failed. The score on this train-test partition for these parameters will be set to nan. Details: \n",
      "Traceback (most recent call last):\n",
      "  File \"/Users/kemalcanalaeddinoglu/opt/anaconda3/envs/dsi/lib/python3.7/site-packages/sklearn/model_selection/_validation.py\", line 531, in _fit_and_score\n",
      "    estimator.fit(X_train, y_train, **fit_params)\n",
      "  File \"/Users/kemalcanalaeddinoglu/opt/anaconda3/envs/dsi/lib/python3.7/site-packages/sklearn/pipeline.py\", line 330, in fit\n",
      "    Xt = self._fit(X, y, **fit_params_steps)\n",
      "  File \"/Users/kemalcanalaeddinoglu/opt/anaconda3/envs/dsi/lib/python3.7/site-packages/sklearn/pipeline.py\", line 296, in _fit\n",
      "    **fit_params_steps[name])\n",
      "  File \"/Users/kemalcanalaeddinoglu/opt/anaconda3/envs/dsi/lib/python3.7/site-packages/joblib/memory.py\", line 355, in __call__\n",
      "    return self.func(*args, **kwargs)\n",
      "  File \"/Users/kemalcanalaeddinoglu/opt/anaconda3/envs/dsi/lib/python3.7/site-packages/sklearn/pipeline.py\", line 740, in _fit_transform_one\n",
      "    res = transformer.fit_transform(X, y, **fit_params)\n",
      "  File \"/Users/kemalcanalaeddinoglu/opt/anaconda3/envs/dsi/lib/python3.7/site-packages/sklearn/feature_extraction/text.py\", line 1840, in fit_transform\n",
      "    X = super().fit_transform(raw_documents)\n",
      "  File \"/Users/kemalcanalaeddinoglu/opt/anaconda3/envs/dsi/lib/python3.7/site-packages/sklearn/feature_extraction/text.py\", line 1199, in fit_transform\n",
      "    self.fixed_vocabulary_)\n",
      "  File \"/Users/kemalcanalaeddinoglu/opt/anaconda3/envs/dsi/lib/python3.7/site-packages/sklearn/feature_extraction/text.py\", line 1102, in _count_vocab\n",
      "    analyze = self.build_analyzer()\n",
      "  File \"/Users/kemalcanalaeddinoglu/opt/anaconda3/envs/dsi/lib/python3.7/site-packages/sklearn/feature_extraction/text.py\", line 422, in build_analyzer\n",
      "    stop_words = self.get_stop_words()\n",
      "  File \"/Users/kemalcanalaeddinoglu/opt/anaconda3/envs/dsi/lib/python3.7/site-packages/sklearn/feature_extraction/text.py\", line 355, in get_stop_words\n",
      "    return _check_stop_list(self.stop_words)\n",
      "  File \"/Users/kemalcanalaeddinoglu/opt/anaconda3/envs/dsi/lib/python3.7/site-packages/sklearn/feature_extraction/text.py\", line 181, in _check_stop_list\n",
      "    raise ValueError(\"not a built-in stop list: %s\" % stop)\n",
      "ValueError: not a built-in stop list: none\n",
      "\n",
      "  FitFailedWarning)\n",
      "/Users/kemalcanalaeddinoglu/opt/anaconda3/envs/dsi/lib/python3.7/site-packages/sklearn/model_selection/_validation.py:552: FitFailedWarning: Estimator fit failed. The score on this train-test partition for these parameters will be set to nan. Details: \n",
      "Traceback (most recent call last):\n",
      "  File \"/Users/kemalcanalaeddinoglu/opt/anaconda3/envs/dsi/lib/python3.7/site-packages/sklearn/model_selection/_validation.py\", line 531, in _fit_and_score\n",
      "    estimator.fit(X_train, y_train, **fit_params)\n",
      "  File \"/Users/kemalcanalaeddinoglu/opt/anaconda3/envs/dsi/lib/python3.7/site-packages/sklearn/pipeline.py\", line 330, in fit\n",
      "    Xt = self._fit(X, y, **fit_params_steps)\n",
      "  File \"/Users/kemalcanalaeddinoglu/opt/anaconda3/envs/dsi/lib/python3.7/site-packages/sklearn/pipeline.py\", line 296, in _fit\n",
      "    **fit_params_steps[name])\n",
      "  File \"/Users/kemalcanalaeddinoglu/opt/anaconda3/envs/dsi/lib/python3.7/site-packages/joblib/memory.py\", line 355, in __call__\n",
      "    return self.func(*args, **kwargs)\n",
      "  File \"/Users/kemalcanalaeddinoglu/opt/anaconda3/envs/dsi/lib/python3.7/site-packages/sklearn/pipeline.py\", line 740, in _fit_transform_one\n",
      "    res = transformer.fit_transform(X, y, **fit_params)\n",
      "  File \"/Users/kemalcanalaeddinoglu/opt/anaconda3/envs/dsi/lib/python3.7/site-packages/sklearn/feature_extraction/text.py\", line 1840, in fit_transform\n",
      "    X = super().fit_transform(raw_documents)\n",
      "  File \"/Users/kemalcanalaeddinoglu/opt/anaconda3/envs/dsi/lib/python3.7/site-packages/sklearn/feature_extraction/text.py\", line 1199, in fit_transform\n",
      "    self.fixed_vocabulary_)\n",
      "  File \"/Users/kemalcanalaeddinoglu/opt/anaconda3/envs/dsi/lib/python3.7/site-packages/sklearn/feature_extraction/text.py\", line 1102, in _count_vocab\n",
      "    analyze = self.build_analyzer()\n",
      "  File \"/Users/kemalcanalaeddinoglu/opt/anaconda3/envs/dsi/lib/python3.7/site-packages/sklearn/feature_extraction/text.py\", line 422, in build_analyzer\n",
      "    stop_words = self.get_stop_words()\n",
      "  File \"/Users/kemalcanalaeddinoglu/opt/anaconda3/envs/dsi/lib/python3.7/site-packages/sklearn/feature_extraction/text.py\", line 355, in get_stop_words\n",
      "    return _check_stop_list(self.stop_words)\n",
      "  File \"/Users/kemalcanalaeddinoglu/opt/anaconda3/envs/dsi/lib/python3.7/site-packages/sklearn/feature_extraction/text.py\", line 181, in _check_stop_list\n",
      "    raise ValueError(\"not a built-in stop list: %s\" % stop)\n",
      "ValueError: not a built-in stop list: none\n",
      "\n",
      "  FitFailedWarning)\n",
      "/Users/kemalcanalaeddinoglu/opt/anaconda3/envs/dsi/lib/python3.7/site-packages/sklearn/model_selection/_validation.py:552: FitFailedWarning: Estimator fit failed. The score on this train-test partition for these parameters will be set to nan. Details: \n",
      "Traceback (most recent call last):\n",
      "  File \"/Users/kemalcanalaeddinoglu/opt/anaconda3/envs/dsi/lib/python3.7/site-packages/sklearn/model_selection/_validation.py\", line 531, in _fit_and_score\n",
      "    estimator.fit(X_train, y_train, **fit_params)\n",
      "  File \"/Users/kemalcanalaeddinoglu/opt/anaconda3/envs/dsi/lib/python3.7/site-packages/sklearn/pipeline.py\", line 330, in fit\n",
      "    Xt = self._fit(X, y, **fit_params_steps)\n",
      "  File \"/Users/kemalcanalaeddinoglu/opt/anaconda3/envs/dsi/lib/python3.7/site-packages/sklearn/pipeline.py\", line 296, in _fit\n",
      "    **fit_params_steps[name])\n",
      "  File \"/Users/kemalcanalaeddinoglu/opt/anaconda3/envs/dsi/lib/python3.7/site-packages/joblib/memory.py\", line 355, in __call__\n",
      "    return self.func(*args, **kwargs)\n",
      "  File \"/Users/kemalcanalaeddinoglu/opt/anaconda3/envs/dsi/lib/python3.7/site-packages/sklearn/pipeline.py\", line 740, in _fit_transform_one\n",
      "    res = transformer.fit_transform(X, y, **fit_params)\n",
      "  File \"/Users/kemalcanalaeddinoglu/opt/anaconda3/envs/dsi/lib/python3.7/site-packages/sklearn/feature_extraction/text.py\", line 1840, in fit_transform\n",
      "    X = super().fit_transform(raw_documents)\n",
      "  File \"/Users/kemalcanalaeddinoglu/opt/anaconda3/envs/dsi/lib/python3.7/site-packages/sklearn/feature_extraction/text.py\", line 1199, in fit_transform\n",
      "    self.fixed_vocabulary_)\n",
      "  File \"/Users/kemalcanalaeddinoglu/opt/anaconda3/envs/dsi/lib/python3.7/site-packages/sklearn/feature_extraction/text.py\", line 1102, in _count_vocab\n",
      "    analyze = self.build_analyzer()\n",
      "  File \"/Users/kemalcanalaeddinoglu/opt/anaconda3/envs/dsi/lib/python3.7/site-packages/sklearn/feature_extraction/text.py\", line 422, in build_analyzer\n",
      "    stop_words = self.get_stop_words()\n",
      "  File \"/Users/kemalcanalaeddinoglu/opt/anaconda3/envs/dsi/lib/python3.7/site-packages/sklearn/feature_extraction/text.py\", line 355, in get_stop_words\n",
      "    return _check_stop_list(self.stop_words)\n",
      "  File \"/Users/kemalcanalaeddinoglu/opt/anaconda3/envs/dsi/lib/python3.7/site-packages/sklearn/feature_extraction/text.py\", line 181, in _check_stop_list\n",
      "    raise ValueError(\"not a built-in stop list: %s\" % stop)\n",
      "ValueError: not a built-in stop list: none\n",
      "\n",
      "  FitFailedWarning)\n"
     ]
    },
    {
     "name": "stderr",
     "output_type": "stream",
     "text": [
      "/Users/kemalcanalaeddinoglu/opt/anaconda3/envs/dsi/lib/python3.7/site-packages/sklearn/model_selection/_validation.py:552: FitFailedWarning: Estimator fit failed. The score on this train-test partition for these parameters will be set to nan. Details: \n",
      "Traceback (most recent call last):\n",
      "  File \"/Users/kemalcanalaeddinoglu/opt/anaconda3/envs/dsi/lib/python3.7/site-packages/sklearn/model_selection/_validation.py\", line 531, in _fit_and_score\n",
      "    estimator.fit(X_train, y_train, **fit_params)\n",
      "  File \"/Users/kemalcanalaeddinoglu/opt/anaconda3/envs/dsi/lib/python3.7/site-packages/sklearn/pipeline.py\", line 330, in fit\n",
      "    Xt = self._fit(X, y, **fit_params_steps)\n",
      "  File \"/Users/kemalcanalaeddinoglu/opt/anaconda3/envs/dsi/lib/python3.7/site-packages/sklearn/pipeline.py\", line 296, in _fit\n",
      "    **fit_params_steps[name])\n",
      "  File \"/Users/kemalcanalaeddinoglu/opt/anaconda3/envs/dsi/lib/python3.7/site-packages/joblib/memory.py\", line 355, in __call__\n",
      "    return self.func(*args, **kwargs)\n",
      "  File \"/Users/kemalcanalaeddinoglu/opt/anaconda3/envs/dsi/lib/python3.7/site-packages/sklearn/pipeline.py\", line 740, in _fit_transform_one\n",
      "    res = transformer.fit_transform(X, y, **fit_params)\n",
      "  File \"/Users/kemalcanalaeddinoglu/opt/anaconda3/envs/dsi/lib/python3.7/site-packages/sklearn/feature_extraction/text.py\", line 1840, in fit_transform\n",
      "    X = super().fit_transform(raw_documents)\n",
      "  File \"/Users/kemalcanalaeddinoglu/opt/anaconda3/envs/dsi/lib/python3.7/site-packages/sklearn/feature_extraction/text.py\", line 1199, in fit_transform\n",
      "    self.fixed_vocabulary_)\n",
      "  File \"/Users/kemalcanalaeddinoglu/opt/anaconda3/envs/dsi/lib/python3.7/site-packages/sklearn/feature_extraction/text.py\", line 1102, in _count_vocab\n",
      "    analyze = self.build_analyzer()\n",
      "  File \"/Users/kemalcanalaeddinoglu/opt/anaconda3/envs/dsi/lib/python3.7/site-packages/sklearn/feature_extraction/text.py\", line 422, in build_analyzer\n",
      "    stop_words = self.get_stop_words()\n",
      "  File \"/Users/kemalcanalaeddinoglu/opt/anaconda3/envs/dsi/lib/python3.7/site-packages/sklearn/feature_extraction/text.py\", line 355, in get_stop_words\n",
      "    return _check_stop_list(self.stop_words)\n",
      "  File \"/Users/kemalcanalaeddinoglu/opt/anaconda3/envs/dsi/lib/python3.7/site-packages/sklearn/feature_extraction/text.py\", line 181, in _check_stop_list\n",
      "    raise ValueError(\"not a built-in stop list: %s\" % stop)\n",
      "ValueError: not a built-in stop list: none\n",
      "\n",
      "  FitFailedWarning)\n",
      "/Users/kemalcanalaeddinoglu/opt/anaconda3/envs/dsi/lib/python3.7/site-packages/sklearn/model_selection/_validation.py:552: FitFailedWarning: Estimator fit failed. The score on this train-test partition for these parameters will be set to nan. Details: \n",
      "Traceback (most recent call last):\n",
      "  File \"/Users/kemalcanalaeddinoglu/opt/anaconda3/envs/dsi/lib/python3.7/site-packages/sklearn/model_selection/_validation.py\", line 531, in _fit_and_score\n",
      "    estimator.fit(X_train, y_train, **fit_params)\n",
      "  File \"/Users/kemalcanalaeddinoglu/opt/anaconda3/envs/dsi/lib/python3.7/site-packages/sklearn/pipeline.py\", line 330, in fit\n",
      "    Xt = self._fit(X, y, **fit_params_steps)\n",
      "  File \"/Users/kemalcanalaeddinoglu/opt/anaconda3/envs/dsi/lib/python3.7/site-packages/sklearn/pipeline.py\", line 296, in _fit\n",
      "    **fit_params_steps[name])\n",
      "  File \"/Users/kemalcanalaeddinoglu/opt/anaconda3/envs/dsi/lib/python3.7/site-packages/joblib/memory.py\", line 355, in __call__\n",
      "    return self.func(*args, **kwargs)\n",
      "  File \"/Users/kemalcanalaeddinoglu/opt/anaconda3/envs/dsi/lib/python3.7/site-packages/sklearn/pipeline.py\", line 740, in _fit_transform_one\n",
      "    res = transformer.fit_transform(X, y, **fit_params)\n",
      "  File \"/Users/kemalcanalaeddinoglu/opt/anaconda3/envs/dsi/lib/python3.7/site-packages/sklearn/feature_extraction/text.py\", line 1840, in fit_transform\n",
      "    X = super().fit_transform(raw_documents)\n",
      "  File \"/Users/kemalcanalaeddinoglu/opt/anaconda3/envs/dsi/lib/python3.7/site-packages/sklearn/feature_extraction/text.py\", line 1199, in fit_transform\n",
      "    self.fixed_vocabulary_)\n",
      "  File \"/Users/kemalcanalaeddinoglu/opt/anaconda3/envs/dsi/lib/python3.7/site-packages/sklearn/feature_extraction/text.py\", line 1102, in _count_vocab\n",
      "    analyze = self.build_analyzer()\n",
      "  File \"/Users/kemalcanalaeddinoglu/opt/anaconda3/envs/dsi/lib/python3.7/site-packages/sklearn/feature_extraction/text.py\", line 422, in build_analyzer\n",
      "    stop_words = self.get_stop_words()\n",
      "  File \"/Users/kemalcanalaeddinoglu/opt/anaconda3/envs/dsi/lib/python3.7/site-packages/sklearn/feature_extraction/text.py\", line 355, in get_stop_words\n",
      "    return _check_stop_list(self.stop_words)\n",
      "  File \"/Users/kemalcanalaeddinoglu/opt/anaconda3/envs/dsi/lib/python3.7/site-packages/sklearn/feature_extraction/text.py\", line 181, in _check_stop_list\n",
      "    raise ValueError(\"not a built-in stop list: %s\" % stop)\n",
      "ValueError: not a built-in stop list: none\n",
      "\n",
      "  FitFailedWarning)\n",
      "[Parallel(n_jobs=1)]: Done  60 out of  60 | elapsed:    4.2s finished\n"
     ]
    },
    {
     "data": {
      "text/plain": [
       "GridSearchCV(cv=5,\n",
       "             estimator=Pipeline(steps=[('tfdif', TfidfVectorizer()),\n",
       "                                       ('mnb', MultinomialNB())]),\n",
       "             param_grid={'mnb__alpha': [0.01, 0.1, 1],\n",
       "                         'tfdif__ngram_range': [(1, 1), (1, 2)],\n",
       "                         'tfdif__stop_words': ['none', 'english']},\n",
       "             verbose=1)"
      ]
     },
     "execution_count": 17,
     "metadata": {},
     "output_type": "execute_result"
    }
   ],
   "source": [
    "# fitting the model to our data.\n",
    "gs.fit(X_train, y_train)"
   ]
  },
  {
   "cell_type": "code",
   "execution_count": 18,
   "metadata": {},
   "outputs": [
    {
     "data": {
      "text/plain": [
       "0.992468619246862"
      ]
     },
     "execution_count": 18,
     "metadata": {},
     "output_type": "execute_result"
    }
   ],
   "source": [
    "# checking the best score of the pipeline\n",
    "gs_best_score = gs.best_score_\n",
    "gs_best_score"
   ]
  },
  {
   "cell_type": "code",
   "execution_count": 19,
   "metadata": {},
   "outputs": [
    {
     "data": {
      "text/plain": [
       "0.9949066213921901"
      ]
     },
     "execution_count": 19,
     "metadata": {},
     "output_type": "execute_result"
    }
   ],
   "source": [
    "# testing dataset score\n",
    "gs_test_score = gs.score(X_test, y_test)\n",
    "gs_test_score"
   ]
  },
  {
   "cell_type": "code",
   "execution_count": 20,
   "metadata": {},
   "outputs": [
    {
     "data": {
      "text/plain": [
       "Pipeline(steps=[('tfdif',\n",
       "                 TfidfVectorizer(ngram_range=(1, 2), stop_words='english')),\n",
       "                ('mnb', MultinomialNB(alpha=0.01))])"
      ]
     },
     "execution_count": 20,
     "metadata": {},
     "output_type": "execute_result"
    }
   ],
   "source": [
    "# saving the best extimator to a variable\n",
    "mnb = gs.best_estimator_\n",
    "mnb"
   ]
  },
  {
   "cell_type": "code",
   "execution_count": 21,
   "metadata": {},
   "outputs": [
    {
     "data": {
      "text/plain": [
       "{'mnb__alpha': 0.01,\n",
       " 'tfdif__ngram_range': (1, 2),\n",
       " 'tfdif__stop_words': 'english'}"
      ]
     },
     "execution_count": 21,
     "metadata": {},
     "output_type": "execute_result"
    }
   ],
   "source": [
    "# Checking the best parameters.\n",
    "gs.best_params_"
   ]
  },
  {
   "cell_type": "code",
   "execution_count": 22,
   "metadata": {},
   "outputs": [],
   "source": [
    "# creating prediction and assigning them to an Numpy array\n",
    "mnb_predict = mnb.predict(X_test)"
   ]
  },
  {
   "cell_type": "code",
   "execution_count": 23,
   "metadata": {},
   "outputs": [
    {
     "data": {
      "text/html": [
       "<div>\n",
       "<style scoped>\n",
       "    .dataframe tbody tr th:only-of-type {\n",
       "        vertical-align: middle;\n",
       "    }\n",
       "\n",
       "    .dataframe tbody tr th {\n",
       "        vertical-align: top;\n",
       "    }\n",
       "\n",
       "    .dataframe thead th {\n",
       "        text-align: right;\n",
       "    }\n",
       "</style>\n",
       "<table border=\"1\" class=\"dataframe\">\n",
       "  <thead>\n",
       "    <tr style=\"text-align: right;\">\n",
       "      <th></th>\n",
       "      <th>Predicted Burger King</th>\n",
       "      <th>Predicted McDonald's</th>\n",
       "    </tr>\n",
       "  </thead>\n",
       "  <tbody>\n",
       "    <tr>\n",
       "      <th>Actual Burger King</th>\n",
       "      <td>1148</td>\n",
       "      <td>0</td>\n",
       "    </tr>\n",
       "    <tr>\n",
       "      <th>Actual McDonald's</th>\n",
       "      <td>9</td>\n",
       "      <td>610</td>\n",
       "    </tr>\n",
       "  </tbody>\n",
       "</table>\n",
       "</div>"
      ],
      "text/plain": [
       "                    Predicted Burger King  Predicted McDonald's\n",
       "Actual Burger King                   1148                     0\n",
       "Actual McDonald's                       9                   610"
      ]
     },
     "execution_count": 23,
     "metadata": {},
     "output_type": "execute_result"
    }
   ],
   "source": [
    "# we are creating a confusion matrix, and tn, fp, fn, tp variables\n",
    "tn, fp, fn, tp = confusion_matrix(y_test, mnb_predict).ravel()\n",
    "\n",
    "# creating a dataframe to present the confusion matrix\n",
    "mnb_cm = pd.DataFrame(confusion_matrix(y_test, mnb_predict), \n",
    "                      index=[\"Actual Burger King\", \"Actual McDonald's\"], \n",
    "                      columns=[\"Predicted Burger King\", \"Predicted McDonald's\"])\n",
    "mnb_cm"
   ]
  },
  {
   "cell_type": "code",
   "execution_count": 24,
   "metadata": {},
   "outputs": [
    {
     "name": "stdout",
     "output_type": "stream",
     "text": [
      "Sensitivity: 99.0%\n"
     ]
    }
   ],
   "source": [
    "# Calculate sensitivity on Multinomial Naive Bayes.\n",
    "\n",
    "mnb_sens = tp/(tp+fn)\n",
    "\n",
    "print(f'Sensitivity: {round(mnb_sens, 2)*100}%')"
   ]
  },
  {
   "cell_type": "code",
   "execution_count": 25,
   "metadata": {},
   "outputs": [
    {
     "name": "stdout",
     "output_type": "stream",
     "text": [
      "Specificity: 100.0%\n"
     ]
    }
   ],
   "source": [
    "# Calculate specificity on Multinomial Naive Bayes.\n",
    "\n",
    "mnb_spec = tn/(tn+fp)\n",
    "\n",
    "print(f'Specificity: {round(mnb_spec, 3)*100}%')"
   ]
  },
  {
   "cell_type": "code",
   "execution_count": 26,
   "metadata": {},
   "outputs": [],
   "source": [
    "# creating a list of prediction probabilities for McDonald's\n",
    "mnb_pred_proba = [i[1] for i in mnb.predict_proba(X_test)]"
   ]
  },
  {
   "cell_type": "code",
   "execution_count": 27,
   "metadata": {},
   "outputs": [],
   "source": [
    "# McDonald's probabilities and true values dataframe\n",
    "mnb_pred_df = pd.DataFrame({\"true_values\": y_test, \"preds_probs\": mnb_pred_proba})"
   ]
  },
  {
   "cell_type": "code",
   "execution_count": 28,
   "metadata": {},
   "outputs": [
    {
     "data": {
      "text/plain": [
       "0.9994342904426045"
      ]
     },
     "execution_count": 28,
     "metadata": {},
     "output_type": "execute_result"
    }
   ],
   "source": [
    "# Creating the ROC score\n",
    "roc_auc_score(mnb_pred_df[\"true_values\"], mnb_pred_df[\"preds_probs\"])"
   ]
  },
  {
   "cell_type": "code",
   "execution_count": 29,
   "metadata": {},
   "outputs": [
    {
     "data": {
      "image/png": "[encoded data removed]",
      "text/plain": [
       "<Figure size 720x504 with 1 Axes>"
      ]
     },
     "metadata": {
      "needs_background": "light"
     },
     "output_type": "display_data"
    }
   ],
   "source": [
    "# Create figure.\n",
    "plt.figure(figsize = (10,7))\n",
    "\n",
    "# Create threshold values. (Dashed red line in image.)\n",
    "thresholds = np.linspace(0, 1, 200)\n",
    "\n",
    "# Define function to calculate sensitivity. (True positive rate.)\n",
    "def TPR(df, true_col, pred_prob_col, threshold):\n",
    "    true_positive = df[(df[true_col] == 1) & (df[pred_prob_col] >= threshold)].shape[0]\n",
    "    false_negative = df[(df[true_col] == 1) & (df[pred_prob_col] < threshold)].shape[0]\n",
    "    return true_positive / (true_positive + false_negative)\n",
    "    \n",
    "\n",
    "# Define function to calculate 1 - specificity. (False positive rate.)\n",
    "def FPR(df, true_col, pred_prob_col, threshold):\n",
    "    true_negative = df[(df[true_col] == 0) & (df[pred_prob_col] <= threshold)].shape[0]\n",
    "    false_positive = df[(df[true_col] == 0) & (df[pred_prob_col] > threshold)].shape[0]\n",
    "    return 1 - (true_negative / (true_negative + false_positive))\n",
    "    \n",
    "# Calculate sensitivity & 1-specificity for each threshold between 0 and 1.\n",
    "tpr_values = [TPR(mnb_pred_df, 'true_values', 'preds_probs', prob) for prob in thresholds]\n",
    "fpr_values = [FPR(mnb_pred_df, 'true_values', 'preds_probs', prob) for prob in thresholds]\n",
    "\n",
    "# Plot ROC curve.\n",
    "plt.plot(fpr_values, # False Positive Rate on X-axis\n",
    "         tpr_values, # True Positive Rate on Y-axis\n",
    "         label='ROC Curve')\n",
    "\n",
    "# Plot baseline. (Perfect overlap between the two populations.)\n",
    "plt.plot(np.linspace(0, 1, 200),\n",
    "         np.linspace(0, 1, 200),\n",
    "         label='baseline',\n",
    "         linestyle='--')\n",
    "\n",
    "# Label axes.\n",
    "plt.title(f'ROC Curve with AUC = {round(roc_auc_score(mnb_pred_df[\"true_values\"], mnb_pred_df[\"preds_probs\"]),3)}', fontsize=22)\n",
    "plt.ylabel('Sensitivity', fontsize=18)\n",
    "plt.xlabel('1 - Specificity', fontsize=18)\n",
    "\n",
    "# Create legend.\n",
    "plt.legend(fontsize=16);"
   ]
  },
  {
   "cell_type": "markdown",
   "metadata": {},
   "source": [
    "### Model 1 - Results \n",
    "\n",
    "Our Multinomial Naive Bayes model is very close to a perfect model.\n",
    "The accuracy score on test data is 98% and on train datasets is 99%.\n",
    "\n",
    "The best parameters are 0.01 for alpha value; and (1, 2) is the best 'ngram_range' value.\n",
    "\n",
    "Also, sensitivity is 98% and specificity is 99%.\n",
    "\n"
   ]
  },
  {
   "cell_type": "markdown",
   "metadata": {},
   "source": [
    "### Model 2 - K-Nearest Neighbors \n",
    "\n",
    "In the second model we are using term frequency–inverse document frequency​ vectorizer.\n",
    "Our choise of estimator is KNN. \n",
    "\n",
    "We are going pass, manually created `stop_words` and `none` stopwords in the vectorizer. Also, for `ngram_range` we are passing (1,1), (1,2) and (1,3). \n",
    "\n",
    "For estimator Hyperparameters, we are going to use [3, 5, 7] for number of neighbors. Also, we are going to try both Manhattan distance and Eucledian distance."
   ]
  },
  {
   "cell_type": "code",
   "execution_count": 30,
   "metadata": {},
   "outputs": [],
   "source": [
    "# Instantiating the Pipeline\n",
    "pipe_2 = Pipeline([\n",
    "    (\"tfdif\",TfidfVectorizer()), #Tfidf will be our transformer\n",
    "    (\"knn\", KNeighborsClassifier()) # KNN model will be used as estimator\n",
    "               ])\n"
   ]
  },
  {
   "cell_type": "code",
   "execution_count": 31,
   "metadata": {},
   "outputs": [],
   "source": [
    "# parameters dictionary\n",
    "pipe_2_params = { \n",
    "    'tfdif__stop_words': [\"none\", 'english'],\n",
    "    'tfdif__ngram_range':[(1,1),(1,2), (1,3)],\n",
    "    \"knn__n_neighbors\":[3,5,7],\n",
    "    \"knn__p\":[1,2],\n",
    "#     \"knn__weights\":[\"uniform\", \"distance\"]   #I was going to pass these hyperparameters but my computer couldn't handle\n",
    "}"
   ]
  },
  {
   "cell_type": "code",
   "execution_count": 32,
   "metadata": {},
   "outputs": [],
   "source": [
    "# instantiating Gridsearch with pipe, and given parameters. Shows limited parameters (verbose=1)\n",
    "gs_2 = GridSearchCV(pipe_2, param_grid=pipe_2_params, verbose=1, cv=3 )"
   ]
  },
  {
   "cell_type": "code",
   "execution_count": 33,
   "metadata": {},
   "outputs": [
    {
     "name": "stdout",
     "output_type": "stream",
     "text": [
      "Fitting 3 folds for each of 36 candidates, totalling 108 fits\n"
     ]
    },
    {
     "name": "stderr",
     "output_type": "stream",
     "text": [
      "[Parallel(n_jobs=1)]: Using backend SequentialBackend with 1 concurrent workers.\n",
      "/Users/kemalcanalaeddinoglu/opt/anaconda3/envs/dsi/lib/python3.7/site-packages/sklearn/model_selection/_validation.py:552: FitFailedWarning: Estimator fit failed. The score on this train-test partition for these parameters will be set to nan. Details: \n",
      "Traceback (most recent call last):\n",
      "  File \"/Users/kemalcanalaeddinoglu/opt/anaconda3/envs/dsi/lib/python3.7/site-packages/sklearn/model_selection/_validation.py\", line 531, in _fit_and_score\n",
      "    estimator.fit(X_train, y_train, **fit_params)\n",
      "  File \"/Users/kemalcanalaeddinoglu/opt/anaconda3/envs/dsi/lib/python3.7/site-packages/sklearn/pipeline.py\", line 330, in fit\n",
      "    Xt = self._fit(X, y, **fit_params_steps)\n",
      "  File \"/Users/kemalcanalaeddinoglu/opt/anaconda3/envs/dsi/lib/python3.7/site-packages/sklearn/pipeline.py\", line 296, in _fit\n",
      "    **fit_params_steps[name])\n",
      "  File \"/Users/kemalcanalaeddinoglu/opt/anaconda3/envs/dsi/lib/python3.7/site-packages/joblib/memory.py\", line 355, in __call__\n",
      "    return self.func(*args, **kwargs)\n",
      "  File \"/Users/kemalcanalaeddinoglu/opt/anaconda3/envs/dsi/lib/python3.7/site-packages/sklearn/pipeline.py\", line 740, in _fit_transform_one\n",
      "    res = transformer.fit_transform(X, y, **fit_params)\n",
      "  File \"/Users/kemalcanalaeddinoglu/opt/anaconda3/envs/dsi/lib/python3.7/site-packages/sklearn/feature_extraction/text.py\", line 1840, in fit_transform\n",
      "    X = super().fit_transform(raw_documents)\n",
      "  File \"/Users/kemalcanalaeddinoglu/opt/anaconda3/envs/dsi/lib/python3.7/site-packages/sklearn/feature_extraction/text.py\", line 1199, in fit_transform\n",
      "    self.fixed_vocabulary_)\n",
      "  File \"/Users/kemalcanalaeddinoglu/opt/anaconda3/envs/dsi/lib/python3.7/site-packages/sklearn/feature_extraction/text.py\", line 1102, in _count_vocab\n",
      "    analyze = self.build_analyzer()\n",
      "  File \"/Users/kemalcanalaeddinoglu/opt/anaconda3/envs/dsi/lib/python3.7/site-packages/sklearn/feature_extraction/text.py\", line 422, in build_analyzer\n",
      "    stop_words = self.get_stop_words()\n",
      "  File \"/Users/kemalcanalaeddinoglu/opt/anaconda3/envs/dsi/lib/python3.7/site-packages/sklearn/feature_extraction/text.py\", line 355, in get_stop_words\n",
      "    return _check_stop_list(self.stop_words)\n",
      "  File \"/Users/kemalcanalaeddinoglu/opt/anaconda3/envs/dsi/lib/python3.7/site-packages/sklearn/feature_extraction/text.py\", line 181, in _check_stop_list\n",
      "    raise ValueError(\"not a built-in stop list: %s\" % stop)\n",
      "ValueError: not a built-in stop list: none\n",
      "\n",
      "  FitFailedWarning)\n",
      "/Users/kemalcanalaeddinoglu/opt/anaconda3/envs/dsi/lib/python3.7/site-packages/sklearn/model_selection/_validation.py:552: FitFailedWarning: Estimator fit failed. The score on this train-test partition for these parameters will be set to nan. Details: \n",
      "Traceback (most recent call last):\n",
      "  File \"/Users/kemalcanalaeddinoglu/opt/anaconda3/envs/dsi/lib/python3.7/site-packages/sklearn/model_selection/_validation.py\", line 531, in _fit_and_score\n",
      "    estimator.fit(X_train, y_train, **fit_params)\n",
      "  File \"/Users/kemalcanalaeddinoglu/opt/anaconda3/envs/dsi/lib/python3.7/site-packages/sklearn/pipeline.py\", line 330, in fit\n",
      "    Xt = self._fit(X, y, **fit_params_steps)\n",
      "  File \"/Users/kemalcanalaeddinoglu/opt/anaconda3/envs/dsi/lib/python3.7/site-packages/sklearn/pipeline.py\", line 296, in _fit\n",
      "    **fit_params_steps[name])\n",
      "  File \"/Users/kemalcanalaeddinoglu/opt/anaconda3/envs/dsi/lib/python3.7/site-packages/joblib/memory.py\", line 355, in __call__\n",
      "    return self.func(*args, **kwargs)\n",
      "  File \"/Users/kemalcanalaeddinoglu/opt/anaconda3/envs/dsi/lib/python3.7/site-packages/sklearn/pipeline.py\", line 740, in _fit_transform_one\n",
      "    res = transformer.fit_transform(X, y, **fit_params)\n",
      "  File \"/Users/kemalcanalaeddinoglu/opt/anaconda3/envs/dsi/lib/python3.7/site-packages/sklearn/feature_extraction/text.py\", line 1840, in fit_transform\n",
      "    X = super().fit_transform(raw_documents)\n",
      "  File \"/Users/kemalcanalaeddinoglu/opt/anaconda3/envs/dsi/lib/python3.7/site-packages/sklearn/feature_extraction/text.py\", line 1199, in fit_transform\n",
      "    self.fixed_vocabulary_)\n",
      "  File \"/Users/kemalcanalaeddinoglu/opt/anaconda3/envs/dsi/lib/python3.7/site-packages/sklearn/feature_extraction/text.py\", line 1102, in _count_vocab\n",
      "    analyze = self.build_analyzer()\n",
      "  File \"/Users/kemalcanalaeddinoglu/opt/anaconda3/envs/dsi/lib/python3.7/site-packages/sklearn/feature_extraction/text.py\", line 422, in build_analyzer\n",
      "    stop_words = self.get_stop_words()\n",
      "  File \"/Users/kemalcanalaeddinoglu/opt/anaconda3/envs/dsi/lib/python3.7/site-packages/sklearn/feature_extraction/text.py\", line 355, in get_stop_words\n",
      "    return _check_stop_list(self.stop_words)\n",
      "  File \"/Users/kemalcanalaeddinoglu/opt/anaconda3/envs/dsi/lib/python3.7/site-packages/sklearn/feature_extraction/text.py\", line 181, in _check_stop_list\n",
      "    raise ValueError(\"not a built-in stop list: %s\" % stop)\n",
      "ValueError: not a built-in stop list: none\n",
      "\n",
      "  FitFailedWarning)\n",
      "/Users/kemalcanalaeddinoglu/opt/anaconda3/envs/dsi/lib/python3.7/site-packages/sklearn/model_selection/_validation.py:552: FitFailedWarning: Estimator fit failed. The score on this train-test partition for these parameters will be set to nan. Details: \n",
      "Traceback (most recent call last):\n",
      "  File \"/Users/kemalcanalaeddinoglu/opt/anaconda3/envs/dsi/lib/python3.7/site-packages/sklearn/model_selection/_validation.py\", line 531, in _fit_and_score\n",
      "    estimator.fit(X_train, y_train, **fit_params)\n",
      "  File \"/Users/kemalcanalaeddinoglu/opt/anaconda3/envs/dsi/lib/python3.7/site-packages/sklearn/pipeline.py\", line 330, in fit\n",
      "    Xt = self._fit(X, y, **fit_params_steps)\n",
      "  File \"/Users/kemalcanalaeddinoglu/opt/anaconda3/envs/dsi/lib/python3.7/site-packages/sklearn/pipeline.py\", line 296, in _fit\n",
      "    **fit_params_steps[name])\n",
      "  File \"/Users/kemalcanalaeddinoglu/opt/anaconda3/envs/dsi/lib/python3.7/site-packages/joblib/memory.py\", line 355, in __call__\n",
      "    return self.func(*args, **kwargs)\n",
      "  File \"/Users/kemalcanalaeddinoglu/opt/anaconda3/envs/dsi/lib/python3.7/site-packages/sklearn/pipeline.py\", line 740, in _fit_transform_one\n",
      "    res = transformer.fit_transform(X, y, **fit_params)\n",
      "  File \"/Users/kemalcanalaeddinoglu/opt/anaconda3/envs/dsi/lib/python3.7/site-packages/sklearn/feature_extraction/text.py\", line 1840, in fit_transform\n",
      "    X = super().fit_transform(raw_documents)\n",
      "  File \"/Users/kemalcanalaeddinoglu/opt/anaconda3/envs/dsi/lib/python3.7/site-packages/sklearn/feature_extraction/text.py\", line 1199, in fit_transform\n",
      "    self.fixed_vocabulary_)\n",
      "  File \"/Users/kemalcanalaeddinoglu/opt/anaconda3/envs/dsi/lib/python3.7/site-packages/sklearn/feature_extraction/text.py\", line 1102, in _count_vocab\n",
      "    analyze = self.build_analyzer()\n",
      "  File \"/Users/kemalcanalaeddinoglu/opt/anaconda3/envs/dsi/lib/python3.7/site-packages/sklearn/feature_extraction/text.py\", line 422, in build_analyzer\n",
      "    stop_words = self.get_stop_words()\n",
      "  File \"/Users/kemalcanalaeddinoglu/opt/anaconda3/envs/dsi/lib/python3.7/site-packages/sklearn/feature_extraction/text.py\", line 355, in get_stop_words\n",
      "    return _check_stop_list(self.stop_words)\n",
      "  File \"/Users/kemalcanalaeddinoglu/opt/anaconda3/envs/dsi/lib/python3.7/site-packages/sklearn/feature_extraction/text.py\", line 181, in _check_stop_list\n",
      "    raise ValueError(\"not a built-in stop list: %s\" % stop)\n",
      "ValueError: not a built-in stop list: none\n",
      "\n",
      "  FitFailedWarning)\n",
      "/Users/kemalcanalaeddinoglu/opt/anaconda3/envs/dsi/lib/python3.7/site-packages/sklearn/model_selection/_validation.py:552: FitFailedWarning: Estimator fit failed. The score on this train-test partition for these parameters will be set to nan. Details: \n",
      "Traceback (most recent call last):\n",
      "  File \"/Users/kemalcanalaeddinoglu/opt/anaconda3/envs/dsi/lib/python3.7/site-packages/sklearn/model_selection/_validation.py\", line 531, in _fit_and_score\n",
      "    estimator.fit(X_train, y_train, **fit_params)\n",
      "  File \"/Users/kemalcanalaeddinoglu/opt/anaconda3/envs/dsi/lib/python3.7/site-packages/sklearn/pipeline.py\", line 330, in fit\n",
      "    Xt = self._fit(X, y, **fit_params_steps)\n",
      "  File \"/Users/kemalcanalaeddinoglu/opt/anaconda3/envs/dsi/lib/python3.7/site-packages/sklearn/pipeline.py\", line 296, in _fit\n",
      "    **fit_params_steps[name])\n",
      "  File \"/Users/kemalcanalaeddinoglu/opt/anaconda3/envs/dsi/lib/python3.7/site-packages/joblib/memory.py\", line 355, in __call__\n",
      "    return self.func(*args, **kwargs)\n",
      "  File \"/Users/kemalcanalaeddinoglu/opt/anaconda3/envs/dsi/lib/python3.7/site-packages/sklearn/pipeline.py\", line 740, in _fit_transform_one\n",
      "    res = transformer.fit_transform(X, y, **fit_params)\n",
      "  File \"/Users/kemalcanalaeddinoglu/opt/anaconda3/envs/dsi/lib/python3.7/site-packages/sklearn/feature_extraction/text.py\", line 1840, in fit_transform\n",
      "    X = super().fit_transform(raw_documents)\n",
      "  File \"/Users/kemalcanalaeddinoglu/opt/anaconda3/envs/dsi/lib/python3.7/site-packages/sklearn/feature_extraction/text.py\", line 1199, in fit_transform\n",
      "    self.fixed_vocabulary_)\n",
      "  File \"/Users/kemalcanalaeddinoglu/opt/anaconda3/envs/dsi/lib/python3.7/site-packages/sklearn/feature_extraction/text.py\", line 1102, in _count_vocab\n",
      "    analyze = self.build_analyzer()\n",
      "  File \"/Users/kemalcanalaeddinoglu/opt/anaconda3/envs/dsi/lib/python3.7/site-packages/sklearn/feature_extraction/text.py\", line 422, in build_analyzer\n",
      "    stop_words = self.get_stop_words()\n",
      "  File \"/Users/kemalcanalaeddinoglu/opt/anaconda3/envs/dsi/lib/python3.7/site-packages/sklearn/feature_extraction/text.py\", line 355, in get_stop_words\n",
      "    return _check_stop_list(self.stop_words)\n",
      "  File \"/Users/kemalcanalaeddinoglu/opt/anaconda3/envs/dsi/lib/python3.7/site-packages/sklearn/feature_extraction/text.py\", line 181, in _check_stop_list\n",
      "    raise ValueError(\"not a built-in stop list: %s\" % stop)\n",
      "ValueError: not a built-in stop list: none\n",
      "\n",
      "  FitFailedWarning)\n"
     ]
    },
    {
     "name": "stderr",
     "output_type": "stream",
     "text": [
      "/Users/kemalcanalaeddinoglu/opt/anaconda3/envs/dsi/lib/python3.7/site-packages/sklearn/model_selection/_validation.py:552: FitFailedWarning: Estimator fit failed. The score on this train-test partition for these parameters will be set to nan. Details: \n",
      "Traceback (most recent call last):\n",
      "  File \"/Users/kemalcanalaeddinoglu/opt/anaconda3/envs/dsi/lib/python3.7/site-packages/sklearn/model_selection/_validation.py\", line 531, in _fit_and_score\n",
      "    estimator.fit(X_train, y_train, **fit_params)\n",
      "  File \"/Users/kemalcanalaeddinoglu/opt/anaconda3/envs/dsi/lib/python3.7/site-packages/sklearn/pipeline.py\", line 330, in fit\n",
      "    Xt = self._fit(X, y, **fit_params_steps)\n",
      "  File \"/Users/kemalcanalaeddinoglu/opt/anaconda3/envs/dsi/lib/python3.7/site-packages/sklearn/pipeline.py\", line 296, in _fit\n",
      "    **fit_params_steps[name])\n",
      "  File \"/Users/kemalcanalaeddinoglu/opt/anaconda3/envs/dsi/lib/python3.7/site-packages/joblib/memory.py\", line 355, in __call__\n",
      "    return self.func(*args, **kwargs)\n",
      "  File \"/Users/kemalcanalaeddinoglu/opt/anaconda3/envs/dsi/lib/python3.7/site-packages/sklearn/pipeline.py\", line 740, in _fit_transform_one\n",
      "    res = transformer.fit_transform(X, y, **fit_params)\n",
      "  File \"/Users/kemalcanalaeddinoglu/opt/anaconda3/envs/dsi/lib/python3.7/site-packages/sklearn/feature_extraction/text.py\", line 1840, in fit_transform\n",
      "    X = super().fit_transform(raw_documents)\n",
      "  File \"/Users/kemalcanalaeddinoglu/opt/anaconda3/envs/dsi/lib/python3.7/site-packages/sklearn/feature_extraction/text.py\", line 1199, in fit_transform\n",
      "    self.fixed_vocabulary_)\n",
      "  File \"/Users/kemalcanalaeddinoglu/opt/anaconda3/envs/dsi/lib/python3.7/site-packages/sklearn/feature_extraction/text.py\", line 1102, in _count_vocab\n",
      "    analyze = self.build_analyzer()\n",
      "  File \"/Users/kemalcanalaeddinoglu/opt/anaconda3/envs/dsi/lib/python3.7/site-packages/sklearn/feature_extraction/text.py\", line 422, in build_analyzer\n",
      "    stop_words = self.get_stop_words()\n",
      "  File \"/Users/kemalcanalaeddinoglu/opt/anaconda3/envs/dsi/lib/python3.7/site-packages/sklearn/feature_extraction/text.py\", line 355, in get_stop_words\n",
      "    return _check_stop_list(self.stop_words)\n",
      "  File \"/Users/kemalcanalaeddinoglu/opt/anaconda3/envs/dsi/lib/python3.7/site-packages/sklearn/feature_extraction/text.py\", line 181, in _check_stop_list\n",
      "    raise ValueError(\"not a built-in stop list: %s\" % stop)\n",
      "ValueError: not a built-in stop list: none\n",
      "\n",
      "  FitFailedWarning)\n",
      "/Users/kemalcanalaeddinoglu/opt/anaconda3/envs/dsi/lib/python3.7/site-packages/sklearn/model_selection/_validation.py:552: FitFailedWarning: Estimator fit failed. The score on this train-test partition for these parameters will be set to nan. Details: \n",
      "Traceback (most recent call last):\n",
      "  File \"/Users/kemalcanalaeddinoglu/opt/anaconda3/envs/dsi/lib/python3.7/site-packages/sklearn/model_selection/_validation.py\", line 531, in _fit_and_score\n",
      "    estimator.fit(X_train, y_train, **fit_params)\n",
      "  File \"/Users/kemalcanalaeddinoglu/opt/anaconda3/envs/dsi/lib/python3.7/site-packages/sklearn/pipeline.py\", line 330, in fit\n",
      "    Xt = self._fit(X, y, **fit_params_steps)\n",
      "  File \"/Users/kemalcanalaeddinoglu/opt/anaconda3/envs/dsi/lib/python3.7/site-packages/sklearn/pipeline.py\", line 296, in _fit\n",
      "    **fit_params_steps[name])\n",
      "  File \"/Users/kemalcanalaeddinoglu/opt/anaconda3/envs/dsi/lib/python3.7/site-packages/joblib/memory.py\", line 355, in __call__\n",
      "    return self.func(*args, **kwargs)\n",
      "  File \"/Users/kemalcanalaeddinoglu/opt/anaconda3/envs/dsi/lib/python3.7/site-packages/sklearn/pipeline.py\", line 740, in _fit_transform_one\n",
      "    res = transformer.fit_transform(X, y, **fit_params)\n",
      "  File \"/Users/kemalcanalaeddinoglu/opt/anaconda3/envs/dsi/lib/python3.7/site-packages/sklearn/feature_extraction/text.py\", line 1840, in fit_transform\n",
      "    X = super().fit_transform(raw_documents)\n",
      "  File \"/Users/kemalcanalaeddinoglu/opt/anaconda3/envs/dsi/lib/python3.7/site-packages/sklearn/feature_extraction/text.py\", line 1199, in fit_transform\n",
      "    self.fixed_vocabulary_)\n",
      "  File \"/Users/kemalcanalaeddinoglu/opt/anaconda3/envs/dsi/lib/python3.7/site-packages/sklearn/feature_extraction/text.py\", line 1102, in _count_vocab\n",
      "    analyze = self.build_analyzer()\n",
      "  File \"/Users/kemalcanalaeddinoglu/opt/anaconda3/envs/dsi/lib/python3.7/site-packages/sklearn/feature_extraction/text.py\", line 422, in build_analyzer\n",
      "    stop_words = self.get_stop_words()\n",
      "  File \"/Users/kemalcanalaeddinoglu/opt/anaconda3/envs/dsi/lib/python3.7/site-packages/sklearn/feature_extraction/text.py\", line 355, in get_stop_words\n",
      "    return _check_stop_list(self.stop_words)\n",
      "  File \"/Users/kemalcanalaeddinoglu/opt/anaconda3/envs/dsi/lib/python3.7/site-packages/sklearn/feature_extraction/text.py\", line 181, in _check_stop_list\n",
      "    raise ValueError(\"not a built-in stop list: %s\" % stop)\n",
      "ValueError: not a built-in stop list: none\n",
      "\n",
      "  FitFailedWarning)\n",
      "/Users/kemalcanalaeddinoglu/opt/anaconda3/envs/dsi/lib/python3.7/site-packages/sklearn/model_selection/_validation.py:552: FitFailedWarning: Estimator fit failed. The score on this train-test partition for these parameters will be set to nan. Details: \n",
      "Traceback (most recent call last):\n",
      "  File \"/Users/kemalcanalaeddinoglu/opt/anaconda3/envs/dsi/lib/python3.7/site-packages/sklearn/model_selection/_validation.py\", line 531, in _fit_and_score\n",
      "    estimator.fit(X_train, y_train, **fit_params)\n",
      "  File \"/Users/kemalcanalaeddinoglu/opt/anaconda3/envs/dsi/lib/python3.7/site-packages/sklearn/pipeline.py\", line 330, in fit\n",
      "    Xt = self._fit(X, y, **fit_params_steps)\n",
      "  File \"/Users/kemalcanalaeddinoglu/opt/anaconda3/envs/dsi/lib/python3.7/site-packages/sklearn/pipeline.py\", line 296, in _fit\n",
      "    **fit_params_steps[name])\n",
      "  File \"/Users/kemalcanalaeddinoglu/opt/anaconda3/envs/dsi/lib/python3.7/site-packages/joblib/memory.py\", line 355, in __call__\n",
      "    return self.func(*args, **kwargs)\n",
      "  File \"/Users/kemalcanalaeddinoglu/opt/anaconda3/envs/dsi/lib/python3.7/site-packages/sklearn/pipeline.py\", line 740, in _fit_transform_one\n",
      "    res = transformer.fit_transform(X, y, **fit_params)\n",
      "  File \"/Users/kemalcanalaeddinoglu/opt/anaconda3/envs/dsi/lib/python3.7/site-packages/sklearn/feature_extraction/text.py\", line 1840, in fit_transform\n",
      "    X = super().fit_transform(raw_documents)\n",
      "  File \"/Users/kemalcanalaeddinoglu/opt/anaconda3/envs/dsi/lib/python3.7/site-packages/sklearn/feature_extraction/text.py\", line 1199, in fit_transform\n",
      "    self.fixed_vocabulary_)\n",
      "  File \"/Users/kemalcanalaeddinoglu/opt/anaconda3/envs/dsi/lib/python3.7/site-packages/sklearn/feature_extraction/text.py\", line 1102, in _count_vocab\n",
      "    analyze = self.build_analyzer()\n",
      "  File \"/Users/kemalcanalaeddinoglu/opt/anaconda3/envs/dsi/lib/python3.7/site-packages/sklearn/feature_extraction/text.py\", line 422, in build_analyzer\n",
      "    stop_words = self.get_stop_words()\n",
      "  File \"/Users/kemalcanalaeddinoglu/opt/anaconda3/envs/dsi/lib/python3.7/site-packages/sklearn/feature_extraction/text.py\", line 355, in get_stop_words\n",
      "    return _check_stop_list(self.stop_words)\n",
      "  File \"/Users/kemalcanalaeddinoglu/opt/anaconda3/envs/dsi/lib/python3.7/site-packages/sklearn/feature_extraction/text.py\", line 181, in _check_stop_list\n",
      "    raise ValueError(\"not a built-in stop list: %s\" % stop)\n",
      "ValueError: not a built-in stop list: none\n",
      "\n",
      "  FitFailedWarning)\n",
      "/Users/kemalcanalaeddinoglu/opt/anaconda3/envs/dsi/lib/python3.7/site-packages/sklearn/model_selection/_validation.py:552: FitFailedWarning: Estimator fit failed. The score on this train-test partition for these parameters will be set to nan. Details: \n",
      "Traceback (most recent call last):\n",
      "  File \"/Users/kemalcanalaeddinoglu/opt/anaconda3/envs/dsi/lib/python3.7/site-packages/sklearn/model_selection/_validation.py\", line 531, in _fit_and_score\n",
      "    estimator.fit(X_train, y_train, **fit_params)\n",
      "  File \"/Users/kemalcanalaeddinoglu/opt/anaconda3/envs/dsi/lib/python3.7/site-packages/sklearn/pipeline.py\", line 330, in fit\n",
      "    Xt = self._fit(X, y, **fit_params_steps)\n",
      "  File \"/Users/kemalcanalaeddinoglu/opt/anaconda3/envs/dsi/lib/python3.7/site-packages/sklearn/pipeline.py\", line 296, in _fit\n",
      "    **fit_params_steps[name])\n",
      "  File \"/Users/kemalcanalaeddinoglu/opt/anaconda3/envs/dsi/lib/python3.7/site-packages/joblib/memory.py\", line 355, in __call__\n",
      "    return self.func(*args, **kwargs)\n",
      "  File \"/Users/kemalcanalaeddinoglu/opt/anaconda3/envs/dsi/lib/python3.7/site-packages/sklearn/pipeline.py\", line 740, in _fit_transform_one\n",
      "    res = transformer.fit_transform(X, y, **fit_params)\n",
      "  File \"/Users/kemalcanalaeddinoglu/opt/anaconda3/envs/dsi/lib/python3.7/site-packages/sklearn/feature_extraction/text.py\", line 1840, in fit_transform\n",
      "    X = super().fit_transform(raw_documents)\n",
      "  File \"/Users/kemalcanalaeddinoglu/opt/anaconda3/envs/dsi/lib/python3.7/site-packages/sklearn/feature_extraction/text.py\", line 1199, in fit_transform\n",
      "    self.fixed_vocabulary_)\n",
      "  File \"/Users/kemalcanalaeddinoglu/opt/anaconda3/envs/dsi/lib/python3.7/site-packages/sklearn/feature_extraction/text.py\", line 1102, in _count_vocab\n",
      "    analyze = self.build_analyzer()\n",
      "  File \"/Users/kemalcanalaeddinoglu/opt/anaconda3/envs/dsi/lib/python3.7/site-packages/sklearn/feature_extraction/text.py\", line 422, in build_analyzer\n",
      "    stop_words = self.get_stop_words()\n",
      "  File \"/Users/kemalcanalaeddinoglu/opt/anaconda3/envs/dsi/lib/python3.7/site-packages/sklearn/feature_extraction/text.py\", line 355, in get_stop_words\n",
      "    return _check_stop_list(self.stop_words)\n",
      "  File \"/Users/kemalcanalaeddinoglu/opt/anaconda3/envs/dsi/lib/python3.7/site-packages/sklearn/feature_extraction/text.py\", line 181, in _check_stop_list\n",
      "    raise ValueError(\"not a built-in stop list: %s\" % stop)\n",
      "ValueError: not a built-in stop list: none\n",
      "\n",
      "  FitFailedWarning)\n"
     ]
    },
    {
     "name": "stderr",
     "output_type": "stream",
     "text": [
      "/Users/kemalcanalaeddinoglu/opt/anaconda3/envs/dsi/lib/python3.7/site-packages/sklearn/model_selection/_validation.py:552: FitFailedWarning: Estimator fit failed. The score on this train-test partition for these parameters will be set to nan. Details: \n",
      "Traceback (most recent call last):\n",
      "  File \"/Users/kemalcanalaeddinoglu/opt/anaconda3/envs/dsi/lib/python3.7/site-packages/sklearn/model_selection/_validation.py\", line 531, in _fit_and_score\n",
      "    estimator.fit(X_train, y_train, **fit_params)\n",
      "  File \"/Users/kemalcanalaeddinoglu/opt/anaconda3/envs/dsi/lib/python3.7/site-packages/sklearn/pipeline.py\", line 330, in fit\n",
      "    Xt = self._fit(X, y, **fit_params_steps)\n",
      "  File \"/Users/kemalcanalaeddinoglu/opt/anaconda3/envs/dsi/lib/python3.7/site-packages/sklearn/pipeline.py\", line 296, in _fit\n",
      "    **fit_params_steps[name])\n",
      "  File \"/Users/kemalcanalaeddinoglu/opt/anaconda3/envs/dsi/lib/python3.7/site-packages/joblib/memory.py\", line 355, in __call__\n",
      "    return self.func(*args, **kwargs)\n",
      "  File \"/Users/kemalcanalaeddinoglu/opt/anaconda3/envs/dsi/lib/python3.7/site-packages/sklearn/pipeline.py\", line 740, in _fit_transform_one\n",
      "    res = transformer.fit_transform(X, y, **fit_params)\n",
      "  File \"/Users/kemalcanalaeddinoglu/opt/anaconda3/envs/dsi/lib/python3.7/site-packages/sklearn/feature_extraction/text.py\", line 1840, in fit_transform\n",
      "    X = super().fit_transform(raw_documents)\n",
      "  File \"/Users/kemalcanalaeddinoglu/opt/anaconda3/envs/dsi/lib/python3.7/site-packages/sklearn/feature_extraction/text.py\", line 1199, in fit_transform\n",
      "    self.fixed_vocabulary_)\n",
      "  File \"/Users/kemalcanalaeddinoglu/opt/anaconda3/envs/dsi/lib/python3.7/site-packages/sklearn/feature_extraction/text.py\", line 1102, in _count_vocab\n",
      "    analyze = self.build_analyzer()\n",
      "  File \"/Users/kemalcanalaeddinoglu/opt/anaconda3/envs/dsi/lib/python3.7/site-packages/sklearn/feature_extraction/text.py\", line 422, in build_analyzer\n",
      "    stop_words = self.get_stop_words()\n",
      "  File \"/Users/kemalcanalaeddinoglu/opt/anaconda3/envs/dsi/lib/python3.7/site-packages/sklearn/feature_extraction/text.py\", line 355, in get_stop_words\n",
      "    return _check_stop_list(self.stop_words)\n",
      "  File \"/Users/kemalcanalaeddinoglu/opt/anaconda3/envs/dsi/lib/python3.7/site-packages/sklearn/feature_extraction/text.py\", line 181, in _check_stop_list\n",
      "    raise ValueError(\"not a built-in stop list: %s\" % stop)\n",
      "ValueError: not a built-in stop list: none\n",
      "\n",
      "  FitFailedWarning)\n",
      "/Users/kemalcanalaeddinoglu/opt/anaconda3/envs/dsi/lib/python3.7/site-packages/sklearn/model_selection/_validation.py:552: FitFailedWarning: Estimator fit failed. The score on this train-test partition for these parameters will be set to nan. Details: \n",
      "Traceback (most recent call last):\n",
      "  File \"/Users/kemalcanalaeddinoglu/opt/anaconda3/envs/dsi/lib/python3.7/site-packages/sklearn/model_selection/_validation.py\", line 531, in _fit_and_score\n",
      "    estimator.fit(X_train, y_train, **fit_params)\n",
      "  File \"/Users/kemalcanalaeddinoglu/opt/anaconda3/envs/dsi/lib/python3.7/site-packages/sklearn/pipeline.py\", line 330, in fit\n",
      "    Xt = self._fit(X, y, **fit_params_steps)\n",
      "  File \"/Users/kemalcanalaeddinoglu/opt/anaconda3/envs/dsi/lib/python3.7/site-packages/sklearn/pipeline.py\", line 296, in _fit\n",
      "    **fit_params_steps[name])\n",
      "  File \"/Users/kemalcanalaeddinoglu/opt/anaconda3/envs/dsi/lib/python3.7/site-packages/joblib/memory.py\", line 355, in __call__\n",
      "    return self.func(*args, **kwargs)\n",
      "  File \"/Users/kemalcanalaeddinoglu/opt/anaconda3/envs/dsi/lib/python3.7/site-packages/sklearn/pipeline.py\", line 740, in _fit_transform_one\n",
      "    res = transformer.fit_transform(X, y, **fit_params)\n",
      "  File \"/Users/kemalcanalaeddinoglu/opt/anaconda3/envs/dsi/lib/python3.7/site-packages/sklearn/feature_extraction/text.py\", line 1840, in fit_transform\n",
      "    X = super().fit_transform(raw_documents)\n",
      "  File \"/Users/kemalcanalaeddinoglu/opt/anaconda3/envs/dsi/lib/python3.7/site-packages/sklearn/feature_extraction/text.py\", line 1199, in fit_transform\n",
      "    self.fixed_vocabulary_)\n",
      "  File \"/Users/kemalcanalaeddinoglu/opt/anaconda3/envs/dsi/lib/python3.7/site-packages/sklearn/feature_extraction/text.py\", line 1102, in _count_vocab\n",
      "    analyze = self.build_analyzer()\n",
      "  File \"/Users/kemalcanalaeddinoglu/opt/anaconda3/envs/dsi/lib/python3.7/site-packages/sklearn/feature_extraction/text.py\", line 422, in build_analyzer\n",
      "    stop_words = self.get_stop_words()\n",
      "  File \"/Users/kemalcanalaeddinoglu/opt/anaconda3/envs/dsi/lib/python3.7/site-packages/sklearn/feature_extraction/text.py\", line 355, in get_stop_words\n",
      "    return _check_stop_list(self.stop_words)\n",
      "  File \"/Users/kemalcanalaeddinoglu/opt/anaconda3/envs/dsi/lib/python3.7/site-packages/sklearn/feature_extraction/text.py\", line 181, in _check_stop_list\n",
      "    raise ValueError(\"not a built-in stop list: %s\" % stop)\n",
      "ValueError: not a built-in stop list: none\n",
      "\n",
      "  FitFailedWarning)\n",
      "/Users/kemalcanalaeddinoglu/opt/anaconda3/envs/dsi/lib/python3.7/site-packages/sklearn/model_selection/_validation.py:552: FitFailedWarning: Estimator fit failed. The score on this train-test partition for these parameters will be set to nan. Details: \n",
      "Traceback (most recent call last):\n",
      "  File \"/Users/kemalcanalaeddinoglu/opt/anaconda3/envs/dsi/lib/python3.7/site-packages/sklearn/model_selection/_validation.py\", line 531, in _fit_and_score\n",
      "    estimator.fit(X_train, y_train, **fit_params)\n",
      "  File \"/Users/kemalcanalaeddinoglu/opt/anaconda3/envs/dsi/lib/python3.7/site-packages/sklearn/pipeline.py\", line 330, in fit\n",
      "    Xt = self._fit(X, y, **fit_params_steps)\n",
      "  File \"/Users/kemalcanalaeddinoglu/opt/anaconda3/envs/dsi/lib/python3.7/site-packages/sklearn/pipeline.py\", line 296, in _fit\n",
      "    **fit_params_steps[name])\n",
      "  File \"/Users/kemalcanalaeddinoglu/opt/anaconda3/envs/dsi/lib/python3.7/site-packages/joblib/memory.py\", line 355, in __call__\n",
      "    return self.func(*args, **kwargs)\n",
      "  File \"/Users/kemalcanalaeddinoglu/opt/anaconda3/envs/dsi/lib/python3.7/site-packages/sklearn/pipeline.py\", line 740, in _fit_transform_one\n",
      "    res = transformer.fit_transform(X, y, **fit_params)\n",
      "  File \"/Users/kemalcanalaeddinoglu/opt/anaconda3/envs/dsi/lib/python3.7/site-packages/sklearn/feature_extraction/text.py\", line 1840, in fit_transform\n",
      "    X = super().fit_transform(raw_documents)\n",
      "  File \"/Users/kemalcanalaeddinoglu/opt/anaconda3/envs/dsi/lib/python3.7/site-packages/sklearn/feature_extraction/text.py\", line 1199, in fit_transform\n",
      "    self.fixed_vocabulary_)\n",
      "  File \"/Users/kemalcanalaeddinoglu/opt/anaconda3/envs/dsi/lib/python3.7/site-packages/sklearn/feature_extraction/text.py\", line 1102, in _count_vocab\n",
      "    analyze = self.build_analyzer()\n",
      "  File \"/Users/kemalcanalaeddinoglu/opt/anaconda3/envs/dsi/lib/python3.7/site-packages/sklearn/feature_extraction/text.py\", line 422, in build_analyzer\n",
      "    stop_words = self.get_stop_words()\n",
      "  File \"/Users/kemalcanalaeddinoglu/opt/anaconda3/envs/dsi/lib/python3.7/site-packages/sklearn/feature_extraction/text.py\", line 355, in get_stop_words\n",
      "    return _check_stop_list(self.stop_words)\n",
      "  File \"/Users/kemalcanalaeddinoglu/opt/anaconda3/envs/dsi/lib/python3.7/site-packages/sklearn/feature_extraction/text.py\", line 181, in _check_stop_list\n",
      "    raise ValueError(\"not a built-in stop list: %s\" % stop)\n",
      "ValueError: not a built-in stop list: none\n",
      "\n",
      "  FitFailedWarning)\n",
      "/Users/kemalcanalaeddinoglu/opt/anaconda3/envs/dsi/lib/python3.7/site-packages/sklearn/model_selection/_validation.py:552: FitFailedWarning: Estimator fit failed. The score on this train-test partition for these parameters will be set to nan. Details: \n",
      "Traceback (most recent call last):\n",
      "  File \"/Users/kemalcanalaeddinoglu/opt/anaconda3/envs/dsi/lib/python3.7/site-packages/sklearn/model_selection/_validation.py\", line 531, in _fit_and_score\n",
      "    estimator.fit(X_train, y_train, **fit_params)\n",
      "  File \"/Users/kemalcanalaeddinoglu/opt/anaconda3/envs/dsi/lib/python3.7/site-packages/sklearn/pipeline.py\", line 330, in fit\n",
      "    Xt = self._fit(X, y, **fit_params_steps)\n",
      "  File \"/Users/kemalcanalaeddinoglu/opt/anaconda3/envs/dsi/lib/python3.7/site-packages/sklearn/pipeline.py\", line 296, in _fit\n",
      "    **fit_params_steps[name])\n",
      "  File \"/Users/kemalcanalaeddinoglu/opt/anaconda3/envs/dsi/lib/python3.7/site-packages/joblib/memory.py\", line 355, in __call__\n",
      "    return self.func(*args, **kwargs)\n",
      "  File \"/Users/kemalcanalaeddinoglu/opt/anaconda3/envs/dsi/lib/python3.7/site-packages/sklearn/pipeline.py\", line 740, in _fit_transform_one\n",
      "    res = transformer.fit_transform(X, y, **fit_params)\n",
      "  File \"/Users/kemalcanalaeddinoglu/opt/anaconda3/envs/dsi/lib/python3.7/site-packages/sklearn/feature_extraction/text.py\", line 1840, in fit_transform\n",
      "    X = super().fit_transform(raw_documents)\n",
      "  File \"/Users/kemalcanalaeddinoglu/opt/anaconda3/envs/dsi/lib/python3.7/site-packages/sklearn/feature_extraction/text.py\", line 1199, in fit_transform\n",
      "    self.fixed_vocabulary_)\n",
      "  File \"/Users/kemalcanalaeddinoglu/opt/anaconda3/envs/dsi/lib/python3.7/site-packages/sklearn/feature_extraction/text.py\", line 1102, in _count_vocab\n",
      "    analyze = self.build_analyzer()\n",
      "  File \"/Users/kemalcanalaeddinoglu/opt/anaconda3/envs/dsi/lib/python3.7/site-packages/sklearn/feature_extraction/text.py\", line 422, in build_analyzer\n",
      "    stop_words = self.get_stop_words()\n",
      "  File \"/Users/kemalcanalaeddinoglu/opt/anaconda3/envs/dsi/lib/python3.7/site-packages/sklearn/feature_extraction/text.py\", line 355, in get_stop_words\n",
      "    return _check_stop_list(self.stop_words)\n",
      "  File \"/Users/kemalcanalaeddinoglu/opt/anaconda3/envs/dsi/lib/python3.7/site-packages/sklearn/feature_extraction/text.py\", line 181, in _check_stop_list\n",
      "    raise ValueError(\"not a built-in stop list: %s\" % stop)\n",
      "ValueError: not a built-in stop list: none\n",
      "\n",
      "  FitFailedWarning)\n"
     ]
    },
    {
     "name": "stderr",
     "output_type": "stream",
     "text": [
      "/Users/kemalcanalaeddinoglu/opt/anaconda3/envs/dsi/lib/python3.7/site-packages/sklearn/model_selection/_validation.py:552: FitFailedWarning: Estimator fit failed. The score on this train-test partition for these parameters will be set to nan. Details: \n",
      "Traceback (most recent call last):\n",
      "  File \"/Users/kemalcanalaeddinoglu/opt/anaconda3/envs/dsi/lib/python3.7/site-packages/sklearn/model_selection/_validation.py\", line 531, in _fit_and_score\n",
      "    estimator.fit(X_train, y_train, **fit_params)\n",
      "  File \"/Users/kemalcanalaeddinoglu/opt/anaconda3/envs/dsi/lib/python3.7/site-packages/sklearn/pipeline.py\", line 330, in fit\n",
      "    Xt = self._fit(X, y, **fit_params_steps)\n",
      "  File \"/Users/kemalcanalaeddinoglu/opt/anaconda3/envs/dsi/lib/python3.7/site-packages/sklearn/pipeline.py\", line 296, in _fit\n",
      "    **fit_params_steps[name])\n",
      "  File \"/Users/kemalcanalaeddinoglu/opt/anaconda3/envs/dsi/lib/python3.7/site-packages/joblib/memory.py\", line 355, in __call__\n",
      "    return self.func(*args, **kwargs)\n",
      "  File \"/Users/kemalcanalaeddinoglu/opt/anaconda3/envs/dsi/lib/python3.7/site-packages/sklearn/pipeline.py\", line 740, in _fit_transform_one\n",
      "    res = transformer.fit_transform(X, y, **fit_params)\n",
      "  File \"/Users/kemalcanalaeddinoglu/opt/anaconda3/envs/dsi/lib/python3.7/site-packages/sklearn/feature_extraction/text.py\", line 1840, in fit_transform\n",
      "    X = super().fit_transform(raw_documents)\n",
      "  File \"/Users/kemalcanalaeddinoglu/opt/anaconda3/envs/dsi/lib/python3.7/site-packages/sklearn/feature_extraction/text.py\", line 1199, in fit_transform\n",
      "    self.fixed_vocabulary_)\n",
      "  File \"/Users/kemalcanalaeddinoglu/opt/anaconda3/envs/dsi/lib/python3.7/site-packages/sklearn/feature_extraction/text.py\", line 1102, in _count_vocab\n",
      "    analyze = self.build_analyzer()\n",
      "  File \"/Users/kemalcanalaeddinoglu/opt/anaconda3/envs/dsi/lib/python3.7/site-packages/sklearn/feature_extraction/text.py\", line 422, in build_analyzer\n",
      "    stop_words = self.get_stop_words()\n",
      "  File \"/Users/kemalcanalaeddinoglu/opt/anaconda3/envs/dsi/lib/python3.7/site-packages/sklearn/feature_extraction/text.py\", line 355, in get_stop_words\n",
      "    return _check_stop_list(self.stop_words)\n",
      "  File \"/Users/kemalcanalaeddinoglu/opt/anaconda3/envs/dsi/lib/python3.7/site-packages/sklearn/feature_extraction/text.py\", line 181, in _check_stop_list\n",
      "    raise ValueError(\"not a built-in stop list: %s\" % stop)\n",
      "ValueError: not a built-in stop list: none\n",
      "\n",
      "  FitFailedWarning)\n",
      "/Users/kemalcanalaeddinoglu/opt/anaconda3/envs/dsi/lib/python3.7/site-packages/sklearn/model_selection/_validation.py:552: FitFailedWarning: Estimator fit failed. The score on this train-test partition for these parameters will be set to nan. Details: \n",
      "Traceback (most recent call last):\n",
      "  File \"/Users/kemalcanalaeddinoglu/opt/anaconda3/envs/dsi/lib/python3.7/site-packages/sklearn/model_selection/_validation.py\", line 531, in _fit_and_score\n",
      "    estimator.fit(X_train, y_train, **fit_params)\n",
      "  File \"/Users/kemalcanalaeddinoglu/opt/anaconda3/envs/dsi/lib/python3.7/site-packages/sklearn/pipeline.py\", line 330, in fit\n",
      "    Xt = self._fit(X, y, **fit_params_steps)\n",
      "  File \"/Users/kemalcanalaeddinoglu/opt/anaconda3/envs/dsi/lib/python3.7/site-packages/sklearn/pipeline.py\", line 296, in _fit\n",
      "    **fit_params_steps[name])\n",
      "  File \"/Users/kemalcanalaeddinoglu/opt/anaconda3/envs/dsi/lib/python3.7/site-packages/joblib/memory.py\", line 355, in __call__\n",
      "    return self.func(*args, **kwargs)\n",
      "  File \"/Users/kemalcanalaeddinoglu/opt/anaconda3/envs/dsi/lib/python3.7/site-packages/sklearn/pipeline.py\", line 740, in _fit_transform_one\n",
      "    res = transformer.fit_transform(X, y, **fit_params)\n",
      "  File \"/Users/kemalcanalaeddinoglu/opt/anaconda3/envs/dsi/lib/python3.7/site-packages/sklearn/feature_extraction/text.py\", line 1840, in fit_transform\n",
      "    X = super().fit_transform(raw_documents)\n",
      "  File \"/Users/kemalcanalaeddinoglu/opt/anaconda3/envs/dsi/lib/python3.7/site-packages/sklearn/feature_extraction/text.py\", line 1199, in fit_transform\n",
      "    self.fixed_vocabulary_)\n",
      "  File \"/Users/kemalcanalaeddinoglu/opt/anaconda3/envs/dsi/lib/python3.7/site-packages/sklearn/feature_extraction/text.py\", line 1102, in _count_vocab\n",
      "    analyze = self.build_analyzer()\n",
      "  File \"/Users/kemalcanalaeddinoglu/opt/anaconda3/envs/dsi/lib/python3.7/site-packages/sklearn/feature_extraction/text.py\", line 422, in build_analyzer\n",
      "    stop_words = self.get_stop_words()\n",
      "  File \"/Users/kemalcanalaeddinoglu/opt/anaconda3/envs/dsi/lib/python3.7/site-packages/sklearn/feature_extraction/text.py\", line 355, in get_stop_words\n",
      "    return _check_stop_list(self.stop_words)\n",
      "  File \"/Users/kemalcanalaeddinoglu/opt/anaconda3/envs/dsi/lib/python3.7/site-packages/sklearn/feature_extraction/text.py\", line 181, in _check_stop_list\n",
      "    raise ValueError(\"not a built-in stop list: %s\" % stop)\n",
      "ValueError: not a built-in stop list: none\n",
      "\n",
      "  FitFailedWarning)\n",
      "/Users/kemalcanalaeddinoglu/opt/anaconda3/envs/dsi/lib/python3.7/site-packages/sklearn/model_selection/_validation.py:552: FitFailedWarning: Estimator fit failed. The score on this train-test partition for these parameters will be set to nan. Details: \n",
      "Traceback (most recent call last):\n",
      "  File \"/Users/kemalcanalaeddinoglu/opt/anaconda3/envs/dsi/lib/python3.7/site-packages/sklearn/model_selection/_validation.py\", line 531, in _fit_and_score\n",
      "    estimator.fit(X_train, y_train, **fit_params)\n",
      "  File \"/Users/kemalcanalaeddinoglu/opt/anaconda3/envs/dsi/lib/python3.7/site-packages/sklearn/pipeline.py\", line 330, in fit\n",
      "    Xt = self._fit(X, y, **fit_params_steps)\n",
      "  File \"/Users/kemalcanalaeddinoglu/opt/anaconda3/envs/dsi/lib/python3.7/site-packages/sklearn/pipeline.py\", line 296, in _fit\n",
      "    **fit_params_steps[name])\n",
      "  File \"/Users/kemalcanalaeddinoglu/opt/anaconda3/envs/dsi/lib/python3.7/site-packages/joblib/memory.py\", line 355, in __call__\n",
      "    return self.func(*args, **kwargs)\n",
      "  File \"/Users/kemalcanalaeddinoglu/opt/anaconda3/envs/dsi/lib/python3.7/site-packages/sklearn/pipeline.py\", line 740, in _fit_transform_one\n",
      "    res = transformer.fit_transform(X, y, **fit_params)\n",
      "  File \"/Users/kemalcanalaeddinoglu/opt/anaconda3/envs/dsi/lib/python3.7/site-packages/sklearn/feature_extraction/text.py\", line 1840, in fit_transform\n",
      "    X = super().fit_transform(raw_documents)\n",
      "  File \"/Users/kemalcanalaeddinoglu/opt/anaconda3/envs/dsi/lib/python3.7/site-packages/sklearn/feature_extraction/text.py\", line 1199, in fit_transform\n",
      "    self.fixed_vocabulary_)\n",
      "  File \"/Users/kemalcanalaeddinoglu/opt/anaconda3/envs/dsi/lib/python3.7/site-packages/sklearn/feature_extraction/text.py\", line 1102, in _count_vocab\n",
      "    analyze = self.build_analyzer()\n",
      "  File \"/Users/kemalcanalaeddinoglu/opt/anaconda3/envs/dsi/lib/python3.7/site-packages/sklearn/feature_extraction/text.py\", line 422, in build_analyzer\n",
      "    stop_words = self.get_stop_words()\n",
      "  File \"/Users/kemalcanalaeddinoglu/opt/anaconda3/envs/dsi/lib/python3.7/site-packages/sklearn/feature_extraction/text.py\", line 355, in get_stop_words\n",
      "    return _check_stop_list(self.stop_words)\n",
      "  File \"/Users/kemalcanalaeddinoglu/opt/anaconda3/envs/dsi/lib/python3.7/site-packages/sklearn/feature_extraction/text.py\", line 181, in _check_stop_list\n",
      "    raise ValueError(\"not a built-in stop list: %s\" % stop)\n",
      "ValueError: not a built-in stop list: none\n",
      "\n",
      "  FitFailedWarning)\n",
      "/Users/kemalcanalaeddinoglu/opt/anaconda3/envs/dsi/lib/python3.7/site-packages/sklearn/model_selection/_validation.py:552: FitFailedWarning: Estimator fit failed. The score on this train-test partition for these parameters will be set to nan. Details: \n",
      "Traceback (most recent call last):\n",
      "  File \"/Users/kemalcanalaeddinoglu/opt/anaconda3/envs/dsi/lib/python3.7/site-packages/sklearn/model_selection/_validation.py\", line 531, in _fit_and_score\n",
      "    estimator.fit(X_train, y_train, **fit_params)\n",
      "  File \"/Users/kemalcanalaeddinoglu/opt/anaconda3/envs/dsi/lib/python3.7/site-packages/sklearn/pipeline.py\", line 330, in fit\n",
      "    Xt = self._fit(X, y, **fit_params_steps)\n",
      "  File \"/Users/kemalcanalaeddinoglu/opt/anaconda3/envs/dsi/lib/python3.7/site-packages/sklearn/pipeline.py\", line 296, in _fit\n",
      "    **fit_params_steps[name])\n",
      "  File \"/Users/kemalcanalaeddinoglu/opt/anaconda3/envs/dsi/lib/python3.7/site-packages/joblib/memory.py\", line 355, in __call__\n",
      "    return self.func(*args, **kwargs)\n",
      "  File \"/Users/kemalcanalaeddinoglu/opt/anaconda3/envs/dsi/lib/python3.7/site-packages/sklearn/pipeline.py\", line 740, in _fit_transform_one\n",
      "    res = transformer.fit_transform(X, y, **fit_params)\n",
      "  File \"/Users/kemalcanalaeddinoglu/opt/anaconda3/envs/dsi/lib/python3.7/site-packages/sklearn/feature_extraction/text.py\", line 1840, in fit_transform\n",
      "    X = super().fit_transform(raw_documents)\n",
      "  File \"/Users/kemalcanalaeddinoglu/opt/anaconda3/envs/dsi/lib/python3.7/site-packages/sklearn/feature_extraction/text.py\", line 1199, in fit_transform\n",
      "    self.fixed_vocabulary_)\n",
      "  File \"/Users/kemalcanalaeddinoglu/opt/anaconda3/envs/dsi/lib/python3.7/site-packages/sklearn/feature_extraction/text.py\", line 1102, in _count_vocab\n",
      "    analyze = self.build_analyzer()\n",
      "  File \"/Users/kemalcanalaeddinoglu/opt/anaconda3/envs/dsi/lib/python3.7/site-packages/sklearn/feature_extraction/text.py\", line 422, in build_analyzer\n",
      "    stop_words = self.get_stop_words()\n",
      "  File \"/Users/kemalcanalaeddinoglu/opt/anaconda3/envs/dsi/lib/python3.7/site-packages/sklearn/feature_extraction/text.py\", line 355, in get_stop_words\n",
      "    return _check_stop_list(self.stop_words)\n",
      "  File \"/Users/kemalcanalaeddinoglu/opt/anaconda3/envs/dsi/lib/python3.7/site-packages/sklearn/feature_extraction/text.py\", line 181, in _check_stop_list\n",
      "    raise ValueError(\"not a built-in stop list: %s\" % stop)\n",
      "ValueError: not a built-in stop list: none\n",
      "\n",
      "  FitFailedWarning)\n"
     ]
    },
    {
     "name": "stderr",
     "output_type": "stream",
     "text": [
      "/Users/kemalcanalaeddinoglu/opt/anaconda3/envs/dsi/lib/python3.7/site-packages/sklearn/model_selection/_validation.py:552: FitFailedWarning: Estimator fit failed. The score on this train-test partition for these parameters will be set to nan. Details: \n",
      "Traceback (most recent call last):\n",
      "  File \"/Users/kemalcanalaeddinoglu/opt/anaconda3/envs/dsi/lib/python3.7/site-packages/sklearn/model_selection/_validation.py\", line 531, in _fit_and_score\n",
      "    estimator.fit(X_train, y_train, **fit_params)\n",
      "  File \"/Users/kemalcanalaeddinoglu/opt/anaconda3/envs/dsi/lib/python3.7/site-packages/sklearn/pipeline.py\", line 330, in fit\n",
      "    Xt = self._fit(X, y, **fit_params_steps)\n",
      "  File \"/Users/kemalcanalaeddinoglu/opt/anaconda3/envs/dsi/lib/python3.7/site-packages/sklearn/pipeline.py\", line 296, in _fit\n",
      "    **fit_params_steps[name])\n",
      "  File \"/Users/kemalcanalaeddinoglu/opt/anaconda3/envs/dsi/lib/python3.7/site-packages/joblib/memory.py\", line 355, in __call__\n",
      "    return self.func(*args, **kwargs)\n",
      "  File \"/Users/kemalcanalaeddinoglu/opt/anaconda3/envs/dsi/lib/python3.7/site-packages/sklearn/pipeline.py\", line 740, in _fit_transform_one\n",
      "    res = transformer.fit_transform(X, y, **fit_params)\n",
      "  File \"/Users/kemalcanalaeddinoglu/opt/anaconda3/envs/dsi/lib/python3.7/site-packages/sklearn/feature_extraction/text.py\", line 1840, in fit_transform\n",
      "    X = super().fit_transform(raw_documents)\n",
      "  File \"/Users/kemalcanalaeddinoglu/opt/anaconda3/envs/dsi/lib/python3.7/site-packages/sklearn/feature_extraction/text.py\", line 1199, in fit_transform\n",
      "    self.fixed_vocabulary_)\n",
      "  File \"/Users/kemalcanalaeddinoglu/opt/anaconda3/envs/dsi/lib/python3.7/site-packages/sklearn/feature_extraction/text.py\", line 1102, in _count_vocab\n",
      "    analyze = self.build_analyzer()\n",
      "  File \"/Users/kemalcanalaeddinoglu/opt/anaconda3/envs/dsi/lib/python3.7/site-packages/sklearn/feature_extraction/text.py\", line 422, in build_analyzer\n",
      "    stop_words = self.get_stop_words()\n",
      "  File \"/Users/kemalcanalaeddinoglu/opt/anaconda3/envs/dsi/lib/python3.7/site-packages/sklearn/feature_extraction/text.py\", line 355, in get_stop_words\n",
      "    return _check_stop_list(self.stop_words)\n",
      "  File \"/Users/kemalcanalaeddinoglu/opt/anaconda3/envs/dsi/lib/python3.7/site-packages/sklearn/feature_extraction/text.py\", line 181, in _check_stop_list\n",
      "    raise ValueError(\"not a built-in stop list: %s\" % stop)\n",
      "ValueError: not a built-in stop list: none\n",
      "\n",
      "  FitFailedWarning)\n",
      "/Users/kemalcanalaeddinoglu/opt/anaconda3/envs/dsi/lib/python3.7/site-packages/sklearn/model_selection/_validation.py:552: FitFailedWarning: Estimator fit failed. The score on this train-test partition for these parameters will be set to nan. Details: \n",
      "Traceback (most recent call last):\n",
      "  File \"/Users/kemalcanalaeddinoglu/opt/anaconda3/envs/dsi/lib/python3.7/site-packages/sklearn/model_selection/_validation.py\", line 531, in _fit_and_score\n",
      "    estimator.fit(X_train, y_train, **fit_params)\n",
      "  File \"/Users/kemalcanalaeddinoglu/opt/anaconda3/envs/dsi/lib/python3.7/site-packages/sklearn/pipeline.py\", line 330, in fit\n",
      "    Xt = self._fit(X, y, **fit_params_steps)\n",
      "  File \"/Users/kemalcanalaeddinoglu/opt/anaconda3/envs/dsi/lib/python3.7/site-packages/sklearn/pipeline.py\", line 296, in _fit\n",
      "    **fit_params_steps[name])\n",
      "  File \"/Users/kemalcanalaeddinoglu/opt/anaconda3/envs/dsi/lib/python3.7/site-packages/joblib/memory.py\", line 355, in __call__\n",
      "    return self.func(*args, **kwargs)\n",
      "  File \"/Users/kemalcanalaeddinoglu/opt/anaconda3/envs/dsi/lib/python3.7/site-packages/sklearn/pipeline.py\", line 740, in _fit_transform_one\n",
      "    res = transformer.fit_transform(X, y, **fit_params)\n",
      "  File \"/Users/kemalcanalaeddinoglu/opt/anaconda3/envs/dsi/lib/python3.7/site-packages/sklearn/feature_extraction/text.py\", line 1840, in fit_transform\n",
      "    X = super().fit_transform(raw_documents)\n",
      "  File \"/Users/kemalcanalaeddinoglu/opt/anaconda3/envs/dsi/lib/python3.7/site-packages/sklearn/feature_extraction/text.py\", line 1199, in fit_transform\n",
      "    self.fixed_vocabulary_)\n",
      "  File \"/Users/kemalcanalaeddinoglu/opt/anaconda3/envs/dsi/lib/python3.7/site-packages/sklearn/feature_extraction/text.py\", line 1102, in _count_vocab\n",
      "    analyze = self.build_analyzer()\n",
      "  File \"/Users/kemalcanalaeddinoglu/opt/anaconda3/envs/dsi/lib/python3.7/site-packages/sklearn/feature_extraction/text.py\", line 422, in build_analyzer\n",
      "    stop_words = self.get_stop_words()\n",
      "  File \"/Users/kemalcanalaeddinoglu/opt/anaconda3/envs/dsi/lib/python3.7/site-packages/sklearn/feature_extraction/text.py\", line 355, in get_stop_words\n",
      "    return _check_stop_list(self.stop_words)\n",
      "  File \"/Users/kemalcanalaeddinoglu/opt/anaconda3/envs/dsi/lib/python3.7/site-packages/sklearn/feature_extraction/text.py\", line 181, in _check_stop_list\n",
      "    raise ValueError(\"not a built-in stop list: %s\" % stop)\n",
      "ValueError: not a built-in stop list: none\n",
      "\n",
      "  FitFailedWarning)\n",
      "[Parallel(n_jobs=1)]: Done 108 out of 108 | elapsed:   22.0s finished\n"
     ]
    },
    {
     "data": {
      "text/plain": [
       "GridSearchCV(cv=3,\n",
       "             estimator=Pipeline(steps=[('tfdif', TfidfVectorizer()),\n",
       "                                       ('knn', KNeighborsClassifier())]),\n",
       "             param_grid={'knn__n_neighbors': [3, 5, 7], 'knn__p': [1, 2],\n",
       "                         'tfdif__ngram_range': [(1, 1), (1, 2), (1, 3)],\n",
       "                         'tfdif__stop_words': ['none', 'english']},\n",
       "             verbose=1)"
      ]
     },
     "execution_count": 33,
     "metadata": {},
     "output_type": "execute_result"
    }
   ],
   "source": [
    "# fitting the train data\n",
    "gs_2.fit(X_train, y_train)"
   ]
  },
  {
   "cell_type": "code",
   "execution_count": 34,
   "metadata": {},
   "outputs": [
    {
     "data": {
      "text/plain": [
       "0.9868898186889817"
      ]
     },
     "execution_count": 34,
     "metadata": {},
     "output_type": "execute_result"
    }
   ],
   "source": [
    "# checking the best score of the pipeline\n",
    "gs_2.best_score_"
   ]
  },
  {
   "cell_type": "code",
   "execution_count": 61,
   "metadata": {},
   "outputs": [
    {
     "data": {
      "text/plain": [
       "{'knn__n_neighbors': 3,\n",
       " 'knn__p': 1,\n",
       " 'tfdif__ngram_range': (1, 1),\n",
       " 'tfdif__stop_words': 'english'}"
      ]
     },
     "execution_count": 61,
     "metadata": {},
     "output_type": "execute_result"
    }
   ],
   "source": [
    "# best parameters\n",
    "gs_2.best_params_"
   ]
  },
  {
   "cell_type": "code",
   "execution_count": 36,
   "metadata": {},
   "outputs": [],
   "source": [
    "# saving the best estimator to a variable\n",
    "knn = gs_2.best_estimator_"
   ]
  },
  {
   "cell_type": "code",
   "execution_count": 37,
   "metadata": {},
   "outputs": [
    {
     "data": {
      "text/plain": [
       "0.9949066213921901"
      ]
     },
     "execution_count": 37,
     "metadata": {},
     "output_type": "execute_result"
    }
   ],
   "source": [
    "# calculating the score for testing data\n",
    "knn.score(X_test, y_test)"
   ]
  },
  {
   "cell_type": "code",
   "execution_count": 38,
   "metadata": {},
   "outputs": [],
   "source": [
    "# creating a numpy array for predictions\n",
    "knn_predict = knn.predict(X_test)"
   ]
  },
  {
   "cell_type": "code",
   "execution_count": 39,
   "metadata": {},
   "outputs": [
    {
     "data": {
      "text/html": [
       "<div>\n",
       "<style scoped>\n",
       "    .dataframe tbody tr th:only-of-type {\n",
       "        vertical-align: middle;\n",
       "    }\n",
       "\n",
       "    .dataframe tbody tr th {\n",
       "        vertical-align: top;\n",
       "    }\n",
       "\n",
       "    .dataframe thead th {\n",
       "        text-align: right;\n",
       "    }\n",
       "</style>\n",
       "<table border=\"1\" class=\"dataframe\">\n",
       "  <thead>\n",
       "    <tr style=\"text-align: right;\">\n",
       "      <th></th>\n",
       "      <th>Predicted Burger King</th>\n",
       "      <th>Predicted McDonald's</th>\n",
       "    </tr>\n",
       "  </thead>\n",
       "  <tbody>\n",
       "    <tr>\n",
       "      <th>Actual Burger King</th>\n",
       "      <td>1148</td>\n",
       "      <td>0</td>\n",
       "    </tr>\n",
       "    <tr>\n",
       "      <th>Actual McDonald's</th>\n",
       "      <td>9</td>\n",
       "      <td>610</td>\n",
       "    </tr>\n",
       "  </tbody>\n",
       "</table>\n",
       "</div>"
      ],
      "text/plain": [
       "                    Predicted Burger King  Predicted McDonald's\n",
       "Actual Burger King                   1148                     0\n",
       "Actual McDonald's                       9                   610"
      ]
     },
     "execution_count": 39,
     "metadata": {},
     "output_type": "execute_result"
    }
   ],
   "source": [
    "# we are creating a confusion matrix, and tn, fp, fn, tp variables\n",
    "tn, fp, fn, tp = confusion_matrix(y_test, knn_predict).ravel()\n",
    "\n",
    "# creating a dataframe to present the confusion matrix\n",
    "knn_cm = pd.DataFrame(confusion_matrix(y_test, knn_predict), \n",
    "                      index=[\"Actual Burger King\", \"Actual McDonald's\"], \n",
    "                      columns=[\"Predicted Burger King\", \"Predicted McDonald's\"])\n",
    "knn_cm"
   ]
  },
  {
   "cell_type": "code",
   "execution_count": 40,
   "metadata": {},
   "outputs": [
    {
     "name": "stdout",
     "output_type": "stream",
     "text": [
      "Sensitivity: 99.0%\n"
     ]
    }
   ],
   "source": [
    "# Calculate sensitivity on KNN.\n",
    "\n",
    "knn_sens = tp/(tp+fn)\n",
    "\n",
    "print(f'Sensitivity: {round(knn_sens, 2)*100}%')"
   ]
  },
  {
   "cell_type": "code",
   "execution_count": 41,
   "metadata": {},
   "outputs": [
    {
     "name": "stdout",
     "output_type": "stream",
     "text": [
      "Specificity: 100.0%\n"
     ]
    }
   ],
   "source": [
    "# Calculate specificity on KNN.\n",
    "\n",
    "knn_spec = tn/(tn+fp)\n",
    "\n",
    "print(f'Specificity: {round(knn_spec, 3)*100}%')"
   ]
  },
  {
   "cell_type": "code",
   "execution_count": 42,
   "metadata": {},
   "outputs": [],
   "source": [
    "# creating a list of prediction probabilities for McDonald's\n",
    "knn_pred_proba = [i[1] for i in knn.predict_proba(X_test)]"
   ]
  },
  {
   "cell_type": "code",
   "execution_count": 43,
   "metadata": {},
   "outputs": [],
   "source": [
    "# McDonald's probabilities and true values dataframe\n",
    "knn_pred_df = pd.DataFrame({\"true_values\": y_test, \"preds_probs\": knn_pred_proba})"
   ]
  },
  {
   "cell_type": "code",
   "execution_count": 44,
   "metadata": {},
   "outputs": [
    {
     "data": {
      "text/plain": [
       "0.997507078405656"
      ]
     },
     "execution_count": 44,
     "metadata": {},
     "output_type": "execute_result"
    }
   ],
   "source": [
    "# Creating the ROC score\n",
    "knn_roc_auc_score = roc_auc_score(knn_pred_df[\"true_values\"], knn_pred_df[\"preds_probs\"])\n",
    "knn_roc_auc_score"
   ]
  },
  {
   "cell_type": "markdown",
   "metadata": {},
   "source": [
    "### Model 2 Results\n",
    "Our K-Nearest Neighbors model is also very close to a perfect model. The accuracy score on test is 99%.\n",
    "\n",
    "We used GridSearchCV to find the optimal parameters.\n",
    "The best parameters are 0.01 for alpha value; and (1, 2) is the best 'ngram_range' value.\n",
    "\n",
    "Also, sensitivity is 99% and specificity is above 99%."
   ]
  },
  {
   "cell_type": "markdown",
   "metadata": {},
   "source": [
    "### Model 3 - Logistic Regression\n",
    "In the third model we are using term frequency–inverse document frequency​ vectorizer. \n",
    "\n",
    "Our choise of estimator is going to be Logistic Regression.\n",
    "\n",
    "We are going pass, manually created stop_words and \"English\" stopwords in the vectorizer. Also, for ngram_range we are passing (1,1), (1,2) and (1,3).\n",
    "\n",
    "For estimator Hyperparameters, we are going to use both regularizations (Ridge and Lasso). Also, C value choices will be 5.5 and 6. "
   ]
  },
  {
   "cell_type": "code",
   "execution_count": 45,
   "metadata": {},
   "outputs": [],
   "source": [
    "# Instantiating the Pipeline.\n",
    "pipe_3 = Pipeline([\n",
    "    (\"tfdif\",TfidfVectorizer()), #Tfidf will be our transformer\n",
    "    (\"lr\", LogisticRegression()) # LR model will be used as estimator\n",
    "               ])\n"
   ]
  },
  {
   "cell_type": "code",
   "execution_count": 46,
   "metadata": {},
   "outputs": [],
   "source": [
    "# Parameters dictionary\n",
    "pipe_3_params ={\n",
    "    \"tfdif__stop_words\": [\"none\", 'english'],\n",
    "    'tfdif__ngram_range':[(1,1),(1,2), (1,3)],\n",
    "    \"lr__penalty\":[\"l1\",\"l2\"],\n",
    "    \"lr__solver\":[\"liblinear\"],\n",
    "    \"lr__C\":[5.5, 6]\n",
    "    \n",
    "}"
   ]
  },
  {
   "cell_type": "code",
   "execution_count": 47,
   "metadata": {},
   "outputs": [],
   "source": [
    "# instantiating Gridsearch with pipe, and given parameters. Shows limited parameters (verbose=1)\n",
    "gs_3 = GridSearchCV(pipe_3, param_grid=pipe_3_params, verbose=1, cv=5 )"
   ]
  },
  {
   "cell_type": "code",
   "execution_count": 48,
   "metadata": {},
   "outputs": [
    {
     "name": "stdout",
     "output_type": "stream",
     "text": [
      "Fitting 5 folds for each of 24 candidates, totalling 120 fits\n"
     ]
    },
    {
     "name": "stderr",
     "output_type": "stream",
     "text": [
      "[Parallel(n_jobs=1)]: Using backend SequentialBackend with 1 concurrent workers.\n",
      "/Users/kemalcanalaeddinoglu/opt/anaconda3/envs/dsi/lib/python3.7/site-packages/sklearn/model_selection/_validation.py:552: FitFailedWarning: Estimator fit failed. The score on this train-test partition for these parameters will be set to nan. Details: \n",
      "Traceback (most recent call last):\n",
      "  File \"/Users/kemalcanalaeddinoglu/opt/anaconda3/envs/dsi/lib/python3.7/site-packages/sklearn/model_selection/_validation.py\", line 531, in _fit_and_score\n",
      "    estimator.fit(X_train, y_train, **fit_params)\n",
      "  File \"/Users/kemalcanalaeddinoglu/opt/anaconda3/envs/dsi/lib/python3.7/site-packages/sklearn/pipeline.py\", line 330, in fit\n",
      "    Xt = self._fit(X, y, **fit_params_steps)\n",
      "  File \"/Users/kemalcanalaeddinoglu/opt/anaconda3/envs/dsi/lib/python3.7/site-packages/sklearn/pipeline.py\", line 296, in _fit\n",
      "    **fit_params_steps[name])\n",
      "  File \"/Users/kemalcanalaeddinoglu/opt/anaconda3/envs/dsi/lib/python3.7/site-packages/joblib/memory.py\", line 355, in __call__\n",
      "    return self.func(*args, **kwargs)\n",
      "  File \"/Users/kemalcanalaeddinoglu/opt/anaconda3/envs/dsi/lib/python3.7/site-packages/sklearn/pipeline.py\", line 740, in _fit_transform_one\n",
      "    res = transformer.fit_transform(X, y, **fit_params)\n",
      "  File \"/Users/kemalcanalaeddinoglu/opt/anaconda3/envs/dsi/lib/python3.7/site-packages/sklearn/feature_extraction/text.py\", line 1840, in fit_transform\n",
      "    X = super().fit_transform(raw_documents)\n",
      "  File \"/Users/kemalcanalaeddinoglu/opt/anaconda3/envs/dsi/lib/python3.7/site-packages/sklearn/feature_extraction/text.py\", line 1199, in fit_transform\n",
      "    self.fixed_vocabulary_)\n",
      "  File \"/Users/kemalcanalaeddinoglu/opt/anaconda3/envs/dsi/lib/python3.7/site-packages/sklearn/feature_extraction/text.py\", line 1102, in _count_vocab\n",
      "    analyze = self.build_analyzer()\n",
      "  File \"/Users/kemalcanalaeddinoglu/opt/anaconda3/envs/dsi/lib/python3.7/site-packages/sklearn/feature_extraction/text.py\", line 422, in build_analyzer\n",
      "    stop_words = self.get_stop_words()\n",
      "  File \"/Users/kemalcanalaeddinoglu/opt/anaconda3/envs/dsi/lib/python3.7/site-packages/sklearn/feature_extraction/text.py\", line 355, in get_stop_words\n",
      "    return _check_stop_list(self.stop_words)\n",
      "  File \"/Users/kemalcanalaeddinoglu/opt/anaconda3/envs/dsi/lib/python3.7/site-packages/sklearn/feature_extraction/text.py\", line 181, in _check_stop_list\n",
      "    raise ValueError(\"not a built-in stop list: %s\" % stop)\n",
      "ValueError: not a built-in stop list: none\n",
      "\n",
      "  FitFailedWarning)\n",
      "/Users/kemalcanalaeddinoglu/opt/anaconda3/envs/dsi/lib/python3.7/site-packages/sklearn/svm/_base.py:977: ConvergenceWarning: Liblinear failed to converge, increase the number of iterations.\n",
      "  \"the number of iterations.\", ConvergenceWarning)\n",
      "/Users/kemalcanalaeddinoglu/opt/anaconda3/envs/dsi/lib/python3.7/site-packages/sklearn/model_selection/_validation.py:552: FitFailedWarning: Estimator fit failed. The score on this train-test partition for these parameters will be set to nan. Details: \n",
      "Traceback (most recent call last):\n",
      "  File \"/Users/kemalcanalaeddinoglu/opt/anaconda3/envs/dsi/lib/python3.7/site-packages/sklearn/model_selection/_validation.py\", line 531, in _fit_and_score\n",
      "    estimator.fit(X_train, y_train, **fit_params)\n",
      "  File \"/Users/kemalcanalaeddinoglu/opt/anaconda3/envs/dsi/lib/python3.7/site-packages/sklearn/pipeline.py\", line 330, in fit\n",
      "    Xt = self._fit(X, y, **fit_params_steps)\n",
      "  File \"/Users/kemalcanalaeddinoglu/opt/anaconda3/envs/dsi/lib/python3.7/site-packages/sklearn/pipeline.py\", line 296, in _fit\n",
      "    **fit_params_steps[name])\n",
      "  File \"/Users/kemalcanalaeddinoglu/opt/anaconda3/envs/dsi/lib/python3.7/site-packages/joblib/memory.py\", line 355, in __call__\n",
      "    return self.func(*args, **kwargs)\n",
      "  File \"/Users/kemalcanalaeddinoglu/opt/anaconda3/envs/dsi/lib/python3.7/site-packages/sklearn/pipeline.py\", line 740, in _fit_transform_one\n",
      "    res = transformer.fit_transform(X, y, **fit_params)\n",
      "  File \"/Users/kemalcanalaeddinoglu/opt/anaconda3/envs/dsi/lib/python3.7/site-packages/sklearn/feature_extraction/text.py\", line 1840, in fit_transform\n",
      "    X = super().fit_transform(raw_documents)\n",
      "  File \"/Users/kemalcanalaeddinoglu/opt/anaconda3/envs/dsi/lib/python3.7/site-packages/sklearn/feature_extraction/text.py\", line 1199, in fit_transform\n",
      "    self.fixed_vocabulary_)\n",
      "  File \"/Users/kemalcanalaeddinoglu/opt/anaconda3/envs/dsi/lib/python3.7/site-packages/sklearn/feature_extraction/text.py\", line 1102, in _count_vocab\n",
      "    analyze = self.build_analyzer()\n",
      "  File \"/Users/kemalcanalaeddinoglu/opt/anaconda3/envs/dsi/lib/python3.7/site-packages/sklearn/feature_extraction/text.py\", line 422, in build_analyzer\n",
      "    stop_words = self.get_stop_words()\n",
      "  File \"/Users/kemalcanalaeddinoglu/opt/anaconda3/envs/dsi/lib/python3.7/site-packages/sklearn/feature_extraction/text.py\", line 355, in get_stop_words\n",
      "    return _check_stop_list(self.stop_words)\n",
      "  File \"/Users/kemalcanalaeddinoglu/opt/anaconda3/envs/dsi/lib/python3.7/site-packages/sklearn/feature_extraction/text.py\", line 181, in _check_stop_list\n",
      "    raise ValueError(\"not a built-in stop list: %s\" % stop)\n",
      "ValueError: not a built-in stop list: none\n",
      "\n",
      "  FitFailedWarning)\n",
      "/Users/kemalcanalaeddinoglu/opt/anaconda3/envs/dsi/lib/python3.7/site-packages/sklearn/svm/_base.py:977: ConvergenceWarning: Liblinear failed to converge, increase the number of iterations.\n",
      "  \"the number of iterations.\", ConvergenceWarning)\n",
      "/Users/kemalcanalaeddinoglu/opt/anaconda3/envs/dsi/lib/python3.7/site-packages/sklearn/model_selection/_validation.py:552: FitFailedWarning: Estimator fit failed. The score on this train-test partition for these parameters will be set to nan. Details: \n",
      "Traceback (most recent call last):\n",
      "  File \"/Users/kemalcanalaeddinoglu/opt/anaconda3/envs/dsi/lib/python3.7/site-packages/sklearn/model_selection/_validation.py\", line 531, in _fit_and_score\n",
      "    estimator.fit(X_train, y_train, **fit_params)\n",
      "  File \"/Users/kemalcanalaeddinoglu/opt/anaconda3/envs/dsi/lib/python3.7/site-packages/sklearn/pipeline.py\", line 330, in fit\n",
      "    Xt = self._fit(X, y, **fit_params_steps)\n",
      "  File \"/Users/kemalcanalaeddinoglu/opt/anaconda3/envs/dsi/lib/python3.7/site-packages/sklearn/pipeline.py\", line 296, in _fit\n",
      "    **fit_params_steps[name])\n",
      "  File \"/Users/kemalcanalaeddinoglu/opt/anaconda3/envs/dsi/lib/python3.7/site-packages/joblib/memory.py\", line 355, in __call__\n",
      "    return self.func(*args, **kwargs)\n",
      "  File \"/Users/kemalcanalaeddinoglu/opt/anaconda3/envs/dsi/lib/python3.7/site-packages/sklearn/pipeline.py\", line 740, in _fit_transform_one\n",
      "    res = transformer.fit_transform(X, y, **fit_params)\n",
      "  File \"/Users/kemalcanalaeddinoglu/opt/anaconda3/envs/dsi/lib/python3.7/site-packages/sklearn/feature_extraction/text.py\", line 1840, in fit_transform\n",
      "    X = super().fit_transform(raw_documents)\n",
      "  File \"/Users/kemalcanalaeddinoglu/opt/anaconda3/envs/dsi/lib/python3.7/site-packages/sklearn/feature_extraction/text.py\", line 1199, in fit_transform\n",
      "    self.fixed_vocabulary_)\n",
      "  File \"/Users/kemalcanalaeddinoglu/opt/anaconda3/envs/dsi/lib/python3.7/site-packages/sklearn/feature_extraction/text.py\", line 1102, in _count_vocab\n",
      "    analyze = self.build_analyzer()\n",
      "  File \"/Users/kemalcanalaeddinoglu/opt/anaconda3/envs/dsi/lib/python3.7/site-packages/sklearn/feature_extraction/text.py\", line 422, in build_analyzer\n",
      "    stop_words = self.get_stop_words()\n",
      "  File \"/Users/kemalcanalaeddinoglu/opt/anaconda3/envs/dsi/lib/python3.7/site-packages/sklearn/feature_extraction/text.py\", line 355, in get_stop_words\n",
      "    return _check_stop_list(self.stop_words)\n",
      "  File \"/Users/kemalcanalaeddinoglu/opt/anaconda3/envs/dsi/lib/python3.7/site-packages/sklearn/feature_extraction/text.py\", line 181, in _check_stop_list\n",
      "    raise ValueError(\"not a built-in stop list: %s\" % stop)\n",
      "ValueError: not a built-in stop list: none\n",
      "\n",
      "  FitFailedWarning)\n",
      "/Users/kemalcanalaeddinoglu/opt/anaconda3/envs/dsi/lib/python3.7/site-packages/sklearn/svm/_base.py:977: ConvergenceWarning: Liblinear failed to converge, increase the number of iterations.\n",
      "  \"the number of iterations.\", ConvergenceWarning)\n",
      "/Users/kemalcanalaeddinoglu/opt/anaconda3/envs/dsi/lib/python3.7/site-packages/sklearn/svm/_base.py:977: ConvergenceWarning: Liblinear failed to converge, increase the number of iterations.\n",
      "  \"the number of iterations.\", ConvergenceWarning)\n"
     ]
    },
    {
     "name": "stderr",
     "output_type": "stream",
     "text": [
      "/Users/kemalcanalaeddinoglu/opt/anaconda3/envs/dsi/lib/python3.7/site-packages/sklearn/model_selection/_validation.py:552: FitFailedWarning: Estimator fit failed. The score on this train-test partition for these parameters will be set to nan. Details: \n",
      "Traceback (most recent call last):\n",
      "  File \"/Users/kemalcanalaeddinoglu/opt/anaconda3/envs/dsi/lib/python3.7/site-packages/sklearn/model_selection/_validation.py\", line 531, in _fit_and_score\n",
      "    estimator.fit(X_train, y_train, **fit_params)\n",
      "  File \"/Users/kemalcanalaeddinoglu/opt/anaconda3/envs/dsi/lib/python3.7/site-packages/sklearn/pipeline.py\", line 330, in fit\n",
      "    Xt = self._fit(X, y, **fit_params_steps)\n",
      "  File \"/Users/kemalcanalaeddinoglu/opt/anaconda3/envs/dsi/lib/python3.7/site-packages/sklearn/pipeline.py\", line 296, in _fit\n",
      "    **fit_params_steps[name])\n",
      "  File \"/Users/kemalcanalaeddinoglu/opt/anaconda3/envs/dsi/lib/python3.7/site-packages/joblib/memory.py\", line 355, in __call__\n",
      "    return self.func(*args, **kwargs)\n",
      "  File \"/Users/kemalcanalaeddinoglu/opt/anaconda3/envs/dsi/lib/python3.7/site-packages/sklearn/pipeline.py\", line 740, in _fit_transform_one\n",
      "    res = transformer.fit_transform(X, y, **fit_params)\n",
      "  File \"/Users/kemalcanalaeddinoglu/opt/anaconda3/envs/dsi/lib/python3.7/site-packages/sklearn/feature_extraction/text.py\", line 1840, in fit_transform\n",
      "    X = super().fit_transform(raw_documents)\n",
      "  File \"/Users/kemalcanalaeddinoglu/opt/anaconda3/envs/dsi/lib/python3.7/site-packages/sklearn/feature_extraction/text.py\", line 1199, in fit_transform\n",
      "    self.fixed_vocabulary_)\n",
      "  File \"/Users/kemalcanalaeddinoglu/opt/anaconda3/envs/dsi/lib/python3.7/site-packages/sklearn/feature_extraction/text.py\", line 1102, in _count_vocab\n",
      "    analyze = self.build_analyzer()\n",
      "  File \"/Users/kemalcanalaeddinoglu/opt/anaconda3/envs/dsi/lib/python3.7/site-packages/sklearn/feature_extraction/text.py\", line 422, in build_analyzer\n",
      "    stop_words = self.get_stop_words()\n",
      "  File \"/Users/kemalcanalaeddinoglu/opt/anaconda3/envs/dsi/lib/python3.7/site-packages/sklearn/feature_extraction/text.py\", line 355, in get_stop_words\n",
      "    return _check_stop_list(self.stop_words)\n",
      "  File \"/Users/kemalcanalaeddinoglu/opt/anaconda3/envs/dsi/lib/python3.7/site-packages/sklearn/feature_extraction/text.py\", line 181, in _check_stop_list\n",
      "    raise ValueError(\"not a built-in stop list: %s\" % stop)\n",
      "ValueError: not a built-in stop list: none\n",
      "\n",
      "  FitFailedWarning)\n",
      "/Users/kemalcanalaeddinoglu/opt/anaconda3/envs/dsi/lib/python3.7/site-packages/sklearn/model_selection/_validation.py:552: FitFailedWarning: Estimator fit failed. The score on this train-test partition for these parameters will be set to nan. Details: \n",
      "Traceback (most recent call last):\n",
      "  File \"/Users/kemalcanalaeddinoglu/opt/anaconda3/envs/dsi/lib/python3.7/site-packages/sklearn/model_selection/_validation.py\", line 531, in _fit_and_score\n",
      "    estimator.fit(X_train, y_train, **fit_params)\n",
      "  File \"/Users/kemalcanalaeddinoglu/opt/anaconda3/envs/dsi/lib/python3.7/site-packages/sklearn/pipeline.py\", line 330, in fit\n",
      "    Xt = self._fit(X, y, **fit_params_steps)\n",
      "  File \"/Users/kemalcanalaeddinoglu/opt/anaconda3/envs/dsi/lib/python3.7/site-packages/sklearn/pipeline.py\", line 296, in _fit\n",
      "    **fit_params_steps[name])\n",
      "  File \"/Users/kemalcanalaeddinoglu/opt/anaconda3/envs/dsi/lib/python3.7/site-packages/joblib/memory.py\", line 355, in __call__\n",
      "    return self.func(*args, **kwargs)\n",
      "  File \"/Users/kemalcanalaeddinoglu/opt/anaconda3/envs/dsi/lib/python3.7/site-packages/sklearn/pipeline.py\", line 740, in _fit_transform_one\n",
      "    res = transformer.fit_transform(X, y, **fit_params)\n",
      "  File \"/Users/kemalcanalaeddinoglu/opt/anaconda3/envs/dsi/lib/python3.7/site-packages/sklearn/feature_extraction/text.py\", line 1840, in fit_transform\n",
      "    X = super().fit_transform(raw_documents)\n",
      "  File \"/Users/kemalcanalaeddinoglu/opt/anaconda3/envs/dsi/lib/python3.7/site-packages/sklearn/feature_extraction/text.py\", line 1199, in fit_transform\n",
      "    self.fixed_vocabulary_)\n",
      "  File \"/Users/kemalcanalaeddinoglu/opt/anaconda3/envs/dsi/lib/python3.7/site-packages/sklearn/feature_extraction/text.py\", line 1102, in _count_vocab\n",
      "    analyze = self.build_analyzer()\n",
      "  File \"/Users/kemalcanalaeddinoglu/opt/anaconda3/envs/dsi/lib/python3.7/site-packages/sklearn/feature_extraction/text.py\", line 422, in build_analyzer\n",
      "    stop_words = self.get_stop_words()\n",
      "  File \"/Users/kemalcanalaeddinoglu/opt/anaconda3/envs/dsi/lib/python3.7/site-packages/sklearn/feature_extraction/text.py\", line 355, in get_stop_words\n",
      "    return _check_stop_list(self.stop_words)\n",
      "  File \"/Users/kemalcanalaeddinoglu/opt/anaconda3/envs/dsi/lib/python3.7/site-packages/sklearn/feature_extraction/text.py\", line 181, in _check_stop_list\n",
      "    raise ValueError(\"not a built-in stop list: %s\" % stop)\n",
      "ValueError: not a built-in stop list: none\n",
      "\n",
      "  FitFailedWarning)\n",
      "/Users/kemalcanalaeddinoglu/opt/anaconda3/envs/dsi/lib/python3.7/site-packages/sklearn/model_selection/_validation.py:552: FitFailedWarning: Estimator fit failed. The score on this train-test partition for these parameters will be set to nan. Details: \n",
      "Traceback (most recent call last):\n",
      "  File \"/Users/kemalcanalaeddinoglu/opt/anaconda3/envs/dsi/lib/python3.7/site-packages/sklearn/model_selection/_validation.py\", line 531, in _fit_and_score\n",
      "    estimator.fit(X_train, y_train, **fit_params)\n",
      "  File \"/Users/kemalcanalaeddinoglu/opt/anaconda3/envs/dsi/lib/python3.7/site-packages/sklearn/pipeline.py\", line 330, in fit\n",
      "    Xt = self._fit(X, y, **fit_params_steps)\n",
      "  File \"/Users/kemalcanalaeddinoglu/opt/anaconda3/envs/dsi/lib/python3.7/site-packages/sklearn/pipeline.py\", line 296, in _fit\n",
      "    **fit_params_steps[name])\n",
      "  File \"/Users/kemalcanalaeddinoglu/opt/anaconda3/envs/dsi/lib/python3.7/site-packages/joblib/memory.py\", line 355, in __call__\n",
      "    return self.func(*args, **kwargs)\n",
      "  File \"/Users/kemalcanalaeddinoglu/opt/anaconda3/envs/dsi/lib/python3.7/site-packages/sklearn/pipeline.py\", line 740, in _fit_transform_one\n",
      "    res = transformer.fit_transform(X, y, **fit_params)\n",
      "  File \"/Users/kemalcanalaeddinoglu/opt/anaconda3/envs/dsi/lib/python3.7/site-packages/sklearn/feature_extraction/text.py\", line 1840, in fit_transform\n",
      "    X = super().fit_transform(raw_documents)\n",
      "  File \"/Users/kemalcanalaeddinoglu/opt/anaconda3/envs/dsi/lib/python3.7/site-packages/sklearn/feature_extraction/text.py\", line 1199, in fit_transform\n",
      "    self.fixed_vocabulary_)\n",
      "  File \"/Users/kemalcanalaeddinoglu/opt/anaconda3/envs/dsi/lib/python3.7/site-packages/sklearn/feature_extraction/text.py\", line 1102, in _count_vocab\n",
      "    analyze = self.build_analyzer()\n",
      "  File \"/Users/kemalcanalaeddinoglu/opt/anaconda3/envs/dsi/lib/python3.7/site-packages/sklearn/feature_extraction/text.py\", line 422, in build_analyzer\n",
      "    stop_words = self.get_stop_words()\n",
      "  File \"/Users/kemalcanalaeddinoglu/opt/anaconda3/envs/dsi/lib/python3.7/site-packages/sklearn/feature_extraction/text.py\", line 355, in get_stop_words\n",
      "    return _check_stop_list(self.stop_words)\n",
      "  File \"/Users/kemalcanalaeddinoglu/opt/anaconda3/envs/dsi/lib/python3.7/site-packages/sklearn/feature_extraction/text.py\", line 181, in _check_stop_list\n",
      "    raise ValueError(\"not a built-in stop list: %s\" % stop)\n",
      "ValueError: not a built-in stop list: none\n",
      "\n",
      "  FitFailedWarning)\n",
      "/Users/kemalcanalaeddinoglu/opt/anaconda3/envs/dsi/lib/python3.7/site-packages/sklearn/model_selection/_validation.py:552: FitFailedWarning: Estimator fit failed. The score on this train-test partition for these parameters will be set to nan. Details: \n",
      "Traceback (most recent call last):\n",
      "  File \"/Users/kemalcanalaeddinoglu/opt/anaconda3/envs/dsi/lib/python3.7/site-packages/sklearn/model_selection/_validation.py\", line 531, in _fit_and_score\n",
      "    estimator.fit(X_train, y_train, **fit_params)\n",
      "  File \"/Users/kemalcanalaeddinoglu/opt/anaconda3/envs/dsi/lib/python3.7/site-packages/sklearn/pipeline.py\", line 330, in fit\n",
      "    Xt = self._fit(X, y, **fit_params_steps)\n",
      "  File \"/Users/kemalcanalaeddinoglu/opt/anaconda3/envs/dsi/lib/python3.7/site-packages/sklearn/pipeline.py\", line 296, in _fit\n",
      "    **fit_params_steps[name])\n",
      "  File \"/Users/kemalcanalaeddinoglu/opt/anaconda3/envs/dsi/lib/python3.7/site-packages/joblib/memory.py\", line 355, in __call__\n",
      "    return self.func(*args, **kwargs)\n",
      "  File \"/Users/kemalcanalaeddinoglu/opt/anaconda3/envs/dsi/lib/python3.7/site-packages/sklearn/pipeline.py\", line 740, in _fit_transform_one\n",
      "    res = transformer.fit_transform(X, y, **fit_params)\n",
      "  File \"/Users/kemalcanalaeddinoglu/opt/anaconda3/envs/dsi/lib/python3.7/site-packages/sklearn/feature_extraction/text.py\", line 1840, in fit_transform\n",
      "    X = super().fit_transform(raw_documents)\n",
      "  File \"/Users/kemalcanalaeddinoglu/opt/anaconda3/envs/dsi/lib/python3.7/site-packages/sklearn/feature_extraction/text.py\", line 1199, in fit_transform\n",
      "    self.fixed_vocabulary_)\n",
      "  File \"/Users/kemalcanalaeddinoglu/opt/anaconda3/envs/dsi/lib/python3.7/site-packages/sklearn/feature_extraction/text.py\", line 1102, in _count_vocab\n",
      "    analyze = self.build_analyzer()\n",
      "  File \"/Users/kemalcanalaeddinoglu/opt/anaconda3/envs/dsi/lib/python3.7/site-packages/sklearn/feature_extraction/text.py\", line 422, in build_analyzer\n",
      "    stop_words = self.get_stop_words()\n",
      "  File \"/Users/kemalcanalaeddinoglu/opt/anaconda3/envs/dsi/lib/python3.7/site-packages/sklearn/feature_extraction/text.py\", line 355, in get_stop_words\n",
      "    return _check_stop_list(self.stop_words)\n",
      "  File \"/Users/kemalcanalaeddinoglu/opt/anaconda3/envs/dsi/lib/python3.7/site-packages/sklearn/feature_extraction/text.py\", line 181, in _check_stop_list\n",
      "    raise ValueError(\"not a built-in stop list: %s\" % stop)\n",
      "ValueError: not a built-in stop list: none\n",
      "\n",
      "  FitFailedWarning)\n"
     ]
    },
    {
     "name": "stderr",
     "output_type": "stream",
     "text": [
      "/Users/kemalcanalaeddinoglu/opt/anaconda3/envs/dsi/lib/python3.7/site-packages/sklearn/svm/_base.py:977: ConvergenceWarning: Liblinear failed to converge, increase the number of iterations.\n",
      "  \"the number of iterations.\", ConvergenceWarning)\n",
      "/Users/kemalcanalaeddinoglu/opt/anaconda3/envs/dsi/lib/python3.7/site-packages/sklearn/svm/_base.py:977: ConvergenceWarning: Liblinear failed to converge, increase the number of iterations.\n",
      "  \"the number of iterations.\", ConvergenceWarning)\n",
      "/Users/kemalcanalaeddinoglu/opt/anaconda3/envs/dsi/lib/python3.7/site-packages/sklearn/svm/_base.py:977: ConvergenceWarning: Liblinear failed to converge, increase the number of iterations.\n",
      "  \"the number of iterations.\", ConvergenceWarning)\n",
      "/Users/kemalcanalaeddinoglu/opt/anaconda3/envs/dsi/lib/python3.7/site-packages/sklearn/model_selection/_validation.py:552: FitFailedWarning: Estimator fit failed. The score on this train-test partition for these parameters will be set to nan. Details: \n",
      "Traceback (most recent call last):\n",
      "  File \"/Users/kemalcanalaeddinoglu/opt/anaconda3/envs/dsi/lib/python3.7/site-packages/sklearn/model_selection/_validation.py\", line 531, in _fit_and_score\n",
      "    estimator.fit(X_train, y_train, **fit_params)\n",
      "  File \"/Users/kemalcanalaeddinoglu/opt/anaconda3/envs/dsi/lib/python3.7/site-packages/sklearn/pipeline.py\", line 330, in fit\n",
      "    Xt = self._fit(X, y, **fit_params_steps)\n",
      "  File \"/Users/kemalcanalaeddinoglu/opt/anaconda3/envs/dsi/lib/python3.7/site-packages/sklearn/pipeline.py\", line 296, in _fit\n",
      "    **fit_params_steps[name])\n",
      "  File \"/Users/kemalcanalaeddinoglu/opt/anaconda3/envs/dsi/lib/python3.7/site-packages/joblib/memory.py\", line 355, in __call__\n",
      "    return self.func(*args, **kwargs)\n",
      "  File \"/Users/kemalcanalaeddinoglu/opt/anaconda3/envs/dsi/lib/python3.7/site-packages/sklearn/pipeline.py\", line 740, in _fit_transform_one\n",
      "    res = transformer.fit_transform(X, y, **fit_params)\n",
      "  File \"/Users/kemalcanalaeddinoglu/opt/anaconda3/envs/dsi/lib/python3.7/site-packages/sklearn/feature_extraction/text.py\", line 1840, in fit_transform\n",
      "    X = super().fit_transform(raw_documents)\n",
      "  File \"/Users/kemalcanalaeddinoglu/opt/anaconda3/envs/dsi/lib/python3.7/site-packages/sklearn/feature_extraction/text.py\", line 1199, in fit_transform\n",
      "    self.fixed_vocabulary_)\n",
      "  File \"/Users/kemalcanalaeddinoglu/opt/anaconda3/envs/dsi/lib/python3.7/site-packages/sklearn/feature_extraction/text.py\", line 1102, in _count_vocab\n",
      "    analyze = self.build_analyzer()\n",
      "  File \"/Users/kemalcanalaeddinoglu/opt/anaconda3/envs/dsi/lib/python3.7/site-packages/sklearn/feature_extraction/text.py\", line 422, in build_analyzer\n",
      "    stop_words = self.get_stop_words()\n",
      "  File \"/Users/kemalcanalaeddinoglu/opt/anaconda3/envs/dsi/lib/python3.7/site-packages/sklearn/feature_extraction/text.py\", line 355, in get_stop_words\n",
      "    return _check_stop_list(self.stop_words)\n",
      "  File \"/Users/kemalcanalaeddinoglu/opt/anaconda3/envs/dsi/lib/python3.7/site-packages/sklearn/feature_extraction/text.py\", line 181, in _check_stop_list\n",
      "    raise ValueError(\"not a built-in stop list: %s\" % stop)\n",
      "ValueError: not a built-in stop list: none\n",
      "\n",
      "  FitFailedWarning)\n",
      "/Users/kemalcanalaeddinoglu/opt/anaconda3/envs/dsi/lib/python3.7/site-packages/sklearn/svm/_base.py:977: ConvergenceWarning: Liblinear failed to converge, increase the number of iterations.\n",
      "  \"the number of iterations.\", ConvergenceWarning)\n",
      "/Users/kemalcanalaeddinoglu/opt/anaconda3/envs/dsi/lib/python3.7/site-packages/sklearn/svm/_base.py:977: ConvergenceWarning: Liblinear failed to converge, increase the number of iterations.\n",
      "  \"the number of iterations.\", ConvergenceWarning)\n",
      "/Users/kemalcanalaeddinoglu/opt/anaconda3/envs/dsi/lib/python3.7/site-packages/sklearn/svm/_base.py:977: ConvergenceWarning: Liblinear failed to converge, increase the number of iterations.\n",
      "  \"the number of iterations.\", ConvergenceWarning)\n",
      "/Users/kemalcanalaeddinoglu/opt/anaconda3/envs/dsi/lib/python3.7/site-packages/sklearn/model_selection/_validation.py:552: FitFailedWarning: Estimator fit failed. The score on this train-test partition for these parameters will be set to nan. Details: \n",
      "Traceback (most recent call last):\n",
      "  File \"/Users/kemalcanalaeddinoglu/opt/anaconda3/envs/dsi/lib/python3.7/site-packages/sklearn/model_selection/_validation.py\", line 531, in _fit_and_score\n",
      "    estimator.fit(X_train, y_train, **fit_params)\n",
      "  File \"/Users/kemalcanalaeddinoglu/opt/anaconda3/envs/dsi/lib/python3.7/site-packages/sklearn/pipeline.py\", line 330, in fit\n",
      "    Xt = self._fit(X, y, **fit_params_steps)\n",
      "  File \"/Users/kemalcanalaeddinoglu/opt/anaconda3/envs/dsi/lib/python3.7/site-packages/sklearn/pipeline.py\", line 296, in _fit\n",
      "    **fit_params_steps[name])\n",
      "  File \"/Users/kemalcanalaeddinoglu/opt/anaconda3/envs/dsi/lib/python3.7/site-packages/joblib/memory.py\", line 355, in __call__\n",
      "    return self.func(*args, **kwargs)\n",
      "  File \"/Users/kemalcanalaeddinoglu/opt/anaconda3/envs/dsi/lib/python3.7/site-packages/sklearn/pipeline.py\", line 740, in _fit_transform_one\n",
      "    res = transformer.fit_transform(X, y, **fit_params)\n",
      "  File \"/Users/kemalcanalaeddinoglu/opt/anaconda3/envs/dsi/lib/python3.7/site-packages/sklearn/feature_extraction/text.py\", line 1840, in fit_transform\n",
      "    X = super().fit_transform(raw_documents)\n",
      "  File \"/Users/kemalcanalaeddinoglu/opt/anaconda3/envs/dsi/lib/python3.7/site-packages/sklearn/feature_extraction/text.py\", line 1199, in fit_transform\n",
      "    self.fixed_vocabulary_)\n",
      "  File \"/Users/kemalcanalaeddinoglu/opt/anaconda3/envs/dsi/lib/python3.7/site-packages/sklearn/feature_extraction/text.py\", line 1102, in _count_vocab\n",
      "    analyze = self.build_analyzer()\n",
      "  File \"/Users/kemalcanalaeddinoglu/opt/anaconda3/envs/dsi/lib/python3.7/site-packages/sklearn/feature_extraction/text.py\", line 422, in build_analyzer\n",
      "    stop_words = self.get_stop_words()\n",
      "  File \"/Users/kemalcanalaeddinoglu/opt/anaconda3/envs/dsi/lib/python3.7/site-packages/sklearn/feature_extraction/text.py\", line 355, in get_stop_words\n",
      "    return _check_stop_list(self.stop_words)\n",
      "  File \"/Users/kemalcanalaeddinoglu/opt/anaconda3/envs/dsi/lib/python3.7/site-packages/sklearn/feature_extraction/text.py\", line 181, in _check_stop_list\n",
      "    raise ValueError(\"not a built-in stop list: %s\" % stop)\n",
      "ValueError: not a built-in stop list: none\n",
      "\n",
      "  FitFailedWarning)\n",
      "/Users/kemalcanalaeddinoglu/opt/anaconda3/envs/dsi/lib/python3.7/site-packages/sklearn/svm/_base.py:977: ConvergenceWarning: Liblinear failed to converge, increase the number of iterations.\n",
      "  \"the number of iterations.\", ConvergenceWarning)\n",
      "/Users/kemalcanalaeddinoglu/opt/anaconda3/envs/dsi/lib/python3.7/site-packages/sklearn/model_selection/_validation.py:552: FitFailedWarning: Estimator fit failed. The score on this train-test partition for these parameters will be set to nan. Details: \n",
      "Traceback (most recent call last):\n",
      "  File \"/Users/kemalcanalaeddinoglu/opt/anaconda3/envs/dsi/lib/python3.7/site-packages/sklearn/model_selection/_validation.py\", line 531, in _fit_and_score\n",
      "    estimator.fit(X_train, y_train, **fit_params)\n",
      "  File \"/Users/kemalcanalaeddinoglu/opt/anaconda3/envs/dsi/lib/python3.7/site-packages/sklearn/pipeline.py\", line 330, in fit\n",
      "    Xt = self._fit(X, y, **fit_params_steps)\n",
      "  File \"/Users/kemalcanalaeddinoglu/opt/anaconda3/envs/dsi/lib/python3.7/site-packages/sklearn/pipeline.py\", line 296, in _fit\n",
      "    **fit_params_steps[name])\n",
      "  File \"/Users/kemalcanalaeddinoglu/opt/anaconda3/envs/dsi/lib/python3.7/site-packages/joblib/memory.py\", line 355, in __call__\n",
      "    return self.func(*args, **kwargs)\n",
      "  File \"/Users/kemalcanalaeddinoglu/opt/anaconda3/envs/dsi/lib/python3.7/site-packages/sklearn/pipeline.py\", line 740, in _fit_transform_one\n",
      "    res = transformer.fit_transform(X, y, **fit_params)\n",
      "  File \"/Users/kemalcanalaeddinoglu/opt/anaconda3/envs/dsi/lib/python3.7/site-packages/sklearn/feature_extraction/text.py\", line 1840, in fit_transform\n",
      "    X = super().fit_transform(raw_documents)\n",
      "  File \"/Users/kemalcanalaeddinoglu/opt/anaconda3/envs/dsi/lib/python3.7/site-packages/sklearn/feature_extraction/text.py\", line 1199, in fit_transform\n",
      "    self.fixed_vocabulary_)\n",
      "  File \"/Users/kemalcanalaeddinoglu/opt/anaconda3/envs/dsi/lib/python3.7/site-packages/sklearn/feature_extraction/text.py\", line 1102, in _count_vocab\n",
      "    analyze = self.build_analyzer()\n",
      "  File \"/Users/kemalcanalaeddinoglu/opt/anaconda3/envs/dsi/lib/python3.7/site-packages/sklearn/feature_extraction/text.py\", line 422, in build_analyzer\n",
      "    stop_words = self.get_stop_words()\n",
      "  File \"/Users/kemalcanalaeddinoglu/opt/anaconda3/envs/dsi/lib/python3.7/site-packages/sklearn/feature_extraction/text.py\", line 355, in get_stop_words\n",
      "    return _check_stop_list(self.stop_words)\n",
      "  File \"/Users/kemalcanalaeddinoglu/opt/anaconda3/envs/dsi/lib/python3.7/site-packages/sklearn/feature_extraction/text.py\", line 181, in _check_stop_list\n",
      "    raise ValueError(\"not a built-in stop list: %s\" % stop)\n",
      "ValueError: not a built-in stop list: none\n",
      "\n",
      "  FitFailedWarning)\n"
     ]
    },
    {
     "name": "stderr",
     "output_type": "stream",
     "text": [
      "/Users/kemalcanalaeddinoglu/opt/anaconda3/envs/dsi/lib/python3.7/site-packages/sklearn/model_selection/_validation.py:552: FitFailedWarning: Estimator fit failed. The score on this train-test partition for these parameters will be set to nan. Details: \n",
      "Traceback (most recent call last):\n",
      "  File \"/Users/kemalcanalaeddinoglu/opt/anaconda3/envs/dsi/lib/python3.7/site-packages/sklearn/model_selection/_validation.py\", line 531, in _fit_and_score\n",
      "    estimator.fit(X_train, y_train, **fit_params)\n",
      "  File \"/Users/kemalcanalaeddinoglu/opt/anaconda3/envs/dsi/lib/python3.7/site-packages/sklearn/pipeline.py\", line 330, in fit\n",
      "    Xt = self._fit(X, y, **fit_params_steps)\n",
      "  File \"/Users/kemalcanalaeddinoglu/opt/anaconda3/envs/dsi/lib/python3.7/site-packages/sklearn/pipeline.py\", line 296, in _fit\n",
      "    **fit_params_steps[name])\n",
      "  File \"/Users/kemalcanalaeddinoglu/opt/anaconda3/envs/dsi/lib/python3.7/site-packages/joblib/memory.py\", line 355, in __call__\n",
      "    return self.func(*args, **kwargs)\n",
      "  File \"/Users/kemalcanalaeddinoglu/opt/anaconda3/envs/dsi/lib/python3.7/site-packages/sklearn/pipeline.py\", line 740, in _fit_transform_one\n",
      "    res = transformer.fit_transform(X, y, **fit_params)\n",
      "  File \"/Users/kemalcanalaeddinoglu/opt/anaconda3/envs/dsi/lib/python3.7/site-packages/sklearn/feature_extraction/text.py\", line 1840, in fit_transform\n",
      "    X = super().fit_transform(raw_documents)\n",
      "  File \"/Users/kemalcanalaeddinoglu/opt/anaconda3/envs/dsi/lib/python3.7/site-packages/sklearn/feature_extraction/text.py\", line 1199, in fit_transform\n",
      "    self.fixed_vocabulary_)\n",
      "  File \"/Users/kemalcanalaeddinoglu/opt/anaconda3/envs/dsi/lib/python3.7/site-packages/sklearn/feature_extraction/text.py\", line 1102, in _count_vocab\n",
      "    analyze = self.build_analyzer()\n",
      "  File \"/Users/kemalcanalaeddinoglu/opt/anaconda3/envs/dsi/lib/python3.7/site-packages/sklearn/feature_extraction/text.py\", line 422, in build_analyzer\n",
      "    stop_words = self.get_stop_words()\n",
      "  File \"/Users/kemalcanalaeddinoglu/opt/anaconda3/envs/dsi/lib/python3.7/site-packages/sklearn/feature_extraction/text.py\", line 355, in get_stop_words\n",
      "    return _check_stop_list(self.stop_words)\n",
      "  File \"/Users/kemalcanalaeddinoglu/opt/anaconda3/envs/dsi/lib/python3.7/site-packages/sklearn/feature_extraction/text.py\", line 181, in _check_stop_list\n",
      "    raise ValueError(\"not a built-in stop list: %s\" % stop)\n",
      "ValueError: not a built-in stop list: none\n",
      "\n",
      "  FitFailedWarning)\n",
      "/Users/kemalcanalaeddinoglu/opt/anaconda3/envs/dsi/lib/python3.7/site-packages/sklearn/model_selection/_validation.py:552: FitFailedWarning: Estimator fit failed. The score on this train-test partition for these parameters will be set to nan. Details: \n",
      "Traceback (most recent call last):\n",
      "  File \"/Users/kemalcanalaeddinoglu/opt/anaconda3/envs/dsi/lib/python3.7/site-packages/sklearn/model_selection/_validation.py\", line 531, in _fit_and_score\n",
      "    estimator.fit(X_train, y_train, **fit_params)\n",
      "  File \"/Users/kemalcanalaeddinoglu/opt/anaconda3/envs/dsi/lib/python3.7/site-packages/sklearn/pipeline.py\", line 330, in fit\n",
      "    Xt = self._fit(X, y, **fit_params_steps)\n",
      "  File \"/Users/kemalcanalaeddinoglu/opt/anaconda3/envs/dsi/lib/python3.7/site-packages/sklearn/pipeline.py\", line 296, in _fit\n",
      "    **fit_params_steps[name])\n",
      "  File \"/Users/kemalcanalaeddinoglu/opt/anaconda3/envs/dsi/lib/python3.7/site-packages/joblib/memory.py\", line 355, in __call__\n",
      "    return self.func(*args, **kwargs)\n",
      "  File \"/Users/kemalcanalaeddinoglu/opt/anaconda3/envs/dsi/lib/python3.7/site-packages/sklearn/pipeline.py\", line 740, in _fit_transform_one\n",
      "    res = transformer.fit_transform(X, y, **fit_params)\n",
      "  File \"/Users/kemalcanalaeddinoglu/opt/anaconda3/envs/dsi/lib/python3.7/site-packages/sklearn/feature_extraction/text.py\", line 1840, in fit_transform\n",
      "    X = super().fit_transform(raw_documents)\n",
      "  File \"/Users/kemalcanalaeddinoglu/opt/anaconda3/envs/dsi/lib/python3.7/site-packages/sklearn/feature_extraction/text.py\", line 1199, in fit_transform\n",
      "    self.fixed_vocabulary_)\n",
      "  File \"/Users/kemalcanalaeddinoglu/opt/anaconda3/envs/dsi/lib/python3.7/site-packages/sklearn/feature_extraction/text.py\", line 1102, in _count_vocab\n",
      "    analyze = self.build_analyzer()\n",
      "  File \"/Users/kemalcanalaeddinoglu/opt/anaconda3/envs/dsi/lib/python3.7/site-packages/sklearn/feature_extraction/text.py\", line 422, in build_analyzer\n",
      "    stop_words = self.get_stop_words()\n",
      "  File \"/Users/kemalcanalaeddinoglu/opt/anaconda3/envs/dsi/lib/python3.7/site-packages/sklearn/feature_extraction/text.py\", line 355, in get_stop_words\n",
      "    return _check_stop_list(self.stop_words)\n",
      "  File \"/Users/kemalcanalaeddinoglu/opt/anaconda3/envs/dsi/lib/python3.7/site-packages/sklearn/feature_extraction/text.py\", line 181, in _check_stop_list\n",
      "    raise ValueError(\"not a built-in stop list: %s\" % stop)\n",
      "ValueError: not a built-in stop list: none\n",
      "\n",
      "  FitFailedWarning)\n",
      "[Parallel(n_jobs=1)]: Done 120 out of 120 | elapsed:   57.6s finished\n"
     ]
    },
    {
     "data": {
      "text/plain": [
       "GridSearchCV(cv=5,\n",
       "             estimator=Pipeline(steps=[('tfdif', TfidfVectorizer()),\n",
       "                                       ('lr', LogisticRegression())]),\n",
       "             param_grid={'lr__C': [5.5, 6], 'lr__penalty': ['l1', 'l2'],\n",
       "                         'lr__solver': ['liblinear'],\n",
       "                         'tfdif__ngram_range': [(1, 1), (1, 2), (1, 3)],\n",
       "                         'tfdif__stop_words': ['none', 'english']},\n",
       "             verbose=1)"
      ]
     },
     "execution_count": 48,
     "metadata": {},
     "output_type": "execute_result"
    }
   ],
   "source": [
    "# fitting the train data\n",
    "gs_3.fit(X_train, y_train)"
   ]
  },
  {
   "cell_type": "code",
   "execution_count": 49,
   "metadata": {},
   "outputs": [
    {
     "data": {
      "text/plain": [
       "0.992468619246862"
      ]
     },
     "execution_count": 49,
     "metadata": {},
     "output_type": "execute_result"
    }
   ],
   "source": [
    "# finding the best score\n",
    "gs_3.best_score_"
   ]
  },
  {
   "cell_type": "code",
   "execution_count": 50,
   "metadata": {},
   "outputs": [
    {
     "data": {
      "text/plain": [
       "{'lr__C': 5.5,\n",
       " 'lr__penalty': 'l1',\n",
       " 'lr__solver': 'liblinear',\n",
       " 'tfdif__ngram_range': (1, 1),\n",
       " 'tfdif__stop_words': 'english'}"
      ]
     },
     "execution_count": 50,
     "metadata": {},
     "output_type": "execute_result"
    }
   ],
   "source": [
    "gs_3.best_params_"
   ]
  },
  {
   "cell_type": "code",
   "execution_count": 51,
   "metadata": {},
   "outputs": [],
   "source": [
    "lr = gs_3.best_estimator_"
   ]
  },
  {
   "cell_type": "code",
   "execution_count": 52,
   "metadata": {},
   "outputs": [
    {
     "data": {
      "text/plain": [
       "0.9924686192468619"
      ]
     },
     "execution_count": 52,
     "metadata": {},
     "output_type": "execute_result"
    }
   ],
   "source": [
    "# finding the accuracy on the training data \n",
    "lr.score(X_train,y_train)"
   ]
  },
  {
   "cell_type": "code",
   "execution_count": 53,
   "metadata": {},
   "outputs": [
    {
     "data": {
      "text/plain": [
       "0.9949066213921901"
      ]
     },
     "execution_count": 53,
     "metadata": {},
     "output_type": "execute_result"
    }
   ],
   "source": [
    "# finding the accuracy on the testing data \n",
    "\n",
    "lr.score(X_test,y_test)"
   ]
  },
  {
   "cell_type": "code",
   "execution_count": 54,
   "metadata": {},
   "outputs": [],
   "source": [
    "# creating a numpy array for predictions\n",
    "\n",
    "lr_predict = lr.predict(X_test)"
   ]
  },
  {
   "cell_type": "code",
   "execution_count": 55,
   "metadata": {},
   "outputs": [
    {
     "data": {
      "text/html": [
       "<div>\n",
       "<style scoped>\n",
       "    .dataframe tbody tr th:only-of-type {\n",
       "        vertical-align: middle;\n",
       "    }\n",
       "\n",
       "    .dataframe tbody tr th {\n",
       "        vertical-align: top;\n",
       "    }\n",
       "\n",
       "    .dataframe thead th {\n",
       "        text-align: right;\n",
       "    }\n",
       "</style>\n",
       "<table border=\"1\" class=\"dataframe\">\n",
       "  <thead>\n",
       "    <tr style=\"text-align: right;\">\n",
       "      <th></th>\n",
       "      <th>Predicted Burger King</th>\n",
       "      <th>Predicted McDonald's</th>\n",
       "    </tr>\n",
       "  </thead>\n",
       "  <tbody>\n",
       "    <tr>\n",
       "      <th>Actual Burger King</th>\n",
       "      <td>1148</td>\n",
       "      <td>0</td>\n",
       "    </tr>\n",
       "    <tr>\n",
       "      <th>Actual McDonald's</th>\n",
       "      <td>9</td>\n",
       "      <td>610</td>\n",
       "    </tr>\n",
       "  </tbody>\n",
       "</table>\n",
       "</div>"
      ],
      "text/plain": [
       "                    Predicted Burger King  Predicted McDonald's\n",
       "Actual Burger King                   1148                     0\n",
       "Actual McDonald's                       9                   610"
      ]
     },
     "execution_count": 55,
     "metadata": {},
     "output_type": "execute_result"
    }
   ],
   "source": [
    "# we are creating a confusion matrix, and tn, fp, fn, tp variables\n",
    "tn, fp, fn, tp = confusion_matrix(y_test, lr_predict).ravel()\n",
    "\n",
    "# creating a dataframe to present the confusion matrix\n",
    "lr_cm = pd.DataFrame(confusion_matrix(y_test, lr_predict), \n",
    "                      index=[\"Actual Burger King\", \"Actual McDonald's\"], \n",
    "                      columns=[\"Predicted Burger King\", \"Predicted McDonald's\"])\n",
    "lr_cm"
   ]
  },
  {
   "cell_type": "code",
   "execution_count": 56,
   "metadata": {},
   "outputs": [
    {
     "name": "stdout",
     "output_type": "stream",
     "text": [
      "Sensitivity: 99.0%\n"
     ]
    }
   ],
   "source": [
    "# Calculate sensitivity on Logistic Regression model.\n",
    "\n",
    "lr_sens = tp/(tp+fn)\n",
    "\n",
    "print(f'Sensitivity: {round(lr_sens, 2)*100}%')"
   ]
  },
  {
   "cell_type": "code",
   "execution_count": 57,
   "metadata": {},
   "outputs": [
    {
     "name": "stdout",
     "output_type": "stream",
     "text": [
      "Specificity: 100.0%\n"
     ]
    }
   ],
   "source": [
    "# Calculate specificity on Logistic Regression model.\n",
    "\n",
    "lr_spec = tn/(tn+fp)\n",
    "\n",
    "print(f'Specificity: {round(lr_spec, 3)*100}%')"
   ]
  },
  {
   "cell_type": "code",
   "execution_count": 58,
   "metadata": {},
   "outputs": [],
   "source": [
    "# creating a list of prediction probabilities for McDonald's\n",
    "lr_pred_proba = [i[1] for i in lr.predict_proba(X_test)]"
   ]
  },
  {
   "cell_type": "code",
   "execution_count": 59,
   "metadata": {},
   "outputs": [],
   "source": [
    "# McDonald's probabilities and true values dataframe\n",
    "lr_pred_df = pd.DataFrame({\"true_values\": y_test, \"preds_probs\": lr_pred_proba})"
   ]
  },
  {
   "cell_type": "code",
   "execution_count": 60,
   "metadata": {},
   "outputs": [
    {
     "data": {
      "text/plain": [
       "0.9998269097622894"
      ]
     },
     "execution_count": 60,
     "metadata": {},
     "output_type": "execute_result"
    }
   ],
   "source": [
    "# Creating the ROC score\n",
    "lr_roc_auc_score = roc_auc_score(lr_pred_df[\"true_values\"], lr_pred_df[\"preds_probs\"])\n",
    "lr_roc_auc_score"
   ]
  },
  {
   "cell_type": "markdown",
   "metadata": {},
   "source": [
    "### Model 3 Results\n",
    "\n",
    "Our Logistic Regression model is also very close to a perfect model. The accuracy score on both test and train datasets is above 99%\n",
    "\n",
    "We used GridSearchCV to find the optimal parameters. The best parameters are 0.01 for alpha value; and (1, 2) is the best 'ngram_range' value for our transformer.\n",
    "\n",
    "Also, sensitivity and specificity are above 99%."
   ]
  },
  {
   "cell_type": "markdown",
   "metadata": {},
   "source": [
    "## CONCLUSION\n",
    "\n",
    "\n",
    "We created 3 models in order to make predictions.\n",
    "\n",
    "\n",
    "Our first model is Multinomial Naive Bayes. We used term frequency–inverse document frequency vectorizer to transform the data. Both the transformer and the estimator were put in the Pipeline. With a group parameters, we used GridSearchCV. The hyperparameters that we passed were `none` and `English` for stopwords; (1,1), (1,2) for ngram_range for vectorizer. We passed the following numbers for alpha value of Multinomial Naive Bayes; 0.01, 0.1, 1. Our GridSearch process fit 60 models to our data. In the first model, the accuracy scores were close to 100%. The   GridSearch also gave us the best parameters. For this model the best hyperparameters are 'alpha': 0.01, 'ngram_range': (1, 2), and the `English` for stop words.\n",
    "\n",
    "\n",
    "\n",
    "Our second model is K-Nearest Neighbors. We used term frequency–inverse document frequency vectorizer to transform the data. Both the transformer and the estimator were instantiated in the Pipeline. We passed a group of hyperparameters to GridSearchCV. The hyperparamteres that we passed were `none` and `English` for stopwords; (1,1), (1,2) and (1,3) for ngram_range for vectorizer.  \n",
    "Also we included k=3, k=5, and k=7 for KNN model. Additionally, we searched for Manhattan and Eucledian distances. Our gridsearch process fit 108 models to our data. In this model the accuracy scores were close to 100%. The   GridSearch also gave us the best hyperparameters. The best hyperparameters are 'knn__n_neighbors': 3, 'knn__p': 1, 'tfdif__ngram_range': (1, 1), 'tfdif__stop_words': 'english'.\n",
    "\n",
    "Our third choice of estimator is Logistic Regression.\n",
    "We passed  `none` and `English` for stopwords in the vectorizer. Also, for ngram_range we are passing (1,1), (1,2) and (1,3).\n",
    "For estimator Hyperparameters, we included both regularizations (Ridge and Lasso). Also, C value choices will be 5.5 and 6. Our gridsearch process fit 120 models to our data. In this model the accuracy scores were also close to 100%. The   GridSearch also gave us the best parameters. The best hyperparameters are 'C Value': 5.5, 'penalty': LASSO, 'ngram_range': (1, 1), and `English` for the stop words.  \n",
    "\n",
    "|Estimator|Transformer|Best Score|Test Data Score| ROC_AUC Score|Sensitivity|Specificity |\n",
    "|---|-------------|------------|-------------|-----------------------|----------|-------------|\n",
    "|Multinomial Naive Bayes|TF-IDF| 98% | 99% | 99.8% | 98% | 100% |\n",
    "|K-Nearest Neighbors|TF-IDF| 97% | 99% | 99.6% | 99% | 99.5% |\n",
    "|Logistic Regression|TF-IDF| 98.8% | 97% | 99% | 98% | 99.5% |\n",
    "\n"
   ]
  }
 ],
 "metadata": {
  "kernelspec": {
   "display_name": "Python 3",
   "language": "python",
   "name": "python3"
  },
  "language_info": {
   "codemirror_mode": {
    "name": "ipython",
    "version": 3
   },
   "file_extension": ".py",
   "mimetype": "text/x-python",
   "name": "python",
   "nbconvert_exporter": "python",
   "pygments_lexer": "ipython3",
   "version": "3.7.7"
  }
 },
 "nbformat": 4,
 "nbformat_minor": 4
}
